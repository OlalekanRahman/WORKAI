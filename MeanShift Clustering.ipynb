{
 "cells": [
  {
   "cell_type": "code",
   "execution_count": 1,
   "metadata": {},
   "outputs": [],
   "source": [
    "import numpy as np\n",
    "import pandas as pd\n",
    "import matplotlib.pyplot as plt\n",
    "from sklearn.cluster import MeanShift, estimate_bandwidth\n",
    "from itertools import cycle\n",
    "from sklearn import metrics as m"
   ]
  },
  {
   "cell_type": "code",
   "execution_count": 2,
   "metadata": {},
   "outputs": [
    {
     "data": {
      "text/html": [
       "<div>\n",
       "<style scoped>\n",
       "    .dataframe tbody tr th:only-of-type {\n",
       "        vertical-align: middle;\n",
       "    }\n",
       "\n",
       "    .dataframe tbody tr th {\n",
       "        vertical-align: top;\n",
       "    }\n",
       "\n",
       "    .dataframe thead th {\n",
       "        text-align: right;\n",
       "    }\n",
       "</style>\n",
       "<table border=\"1\" class=\"dataframe\">\n",
       "  <thead>\n",
       "    <tr style=\"text-align: right;\">\n",
       "      <th></th>\n",
       "      <th>Easting</th>\n",
       "      <th>Northing</th>\n",
       "      <th>Spot_Height</th>\n",
       "    </tr>\n",
       "    <tr>\n",
       "      <th>S/N</th>\n",
       "      <th></th>\n",
       "      <th></th>\n",
       "      <th></th>\n",
       "    </tr>\n",
       "  </thead>\n",
       "  <tbody>\n",
       "    <tr>\n",
       "      <th>1</th>\n",
       "      <td>544079.776</td>\n",
       "      <td>720172.309</td>\n",
       "      <td>1.012</td>\n",
       "    </tr>\n",
       "    <tr>\n",
       "      <th>2</th>\n",
       "      <td>543279.402</td>\n",
       "      <td>720468.302</td>\n",
       "      <td>1.021</td>\n",
       "    </tr>\n",
       "    <tr>\n",
       "      <th>3</th>\n",
       "      <td>543279.472</td>\n",
       "      <td>720468.390</td>\n",
       "      <td>1.025</td>\n",
       "    </tr>\n",
       "    <tr>\n",
       "      <th>4</th>\n",
       "      <td>542778.571</td>\n",
       "      <td>720464.031</td>\n",
       "      <td>1.032</td>\n",
       "    </tr>\n",
       "    <tr>\n",
       "      <th>5</th>\n",
       "      <td>544080.839</td>\n",
       "      <td>720170.246</td>\n",
       "      <td>1.046</td>\n",
       "    </tr>\n",
       "  </tbody>\n",
       "</table>\n",
       "</div>"
      ],
      "text/plain": [
       "        Easting    Northing  Spot_Height\n",
       "S/N                                     \n",
       "1    544079.776  720172.309        1.012\n",
       "2    543279.402  720468.302        1.021\n",
       "3    543279.472  720468.390        1.025\n",
       "4    542778.571  720464.031        1.032\n",
       "5    544080.839  720170.246        1.046"
      ]
     },
     "execution_count": 2,
     "metadata": {},
     "output_type": "execute_result"
    }
   ],
   "source": [
    "#import data from local file\n",
    "data=open('F:\\TOPO_DATA.csv')\n",
    "\n",
    "#Read data using pandas' read_csv method\n",
    "Topo_Data=pd.read_csv(data, index_col='S/N')\n",
    "\n",
    "#Change Columns' names\n",
    "Topo_Data.columns=['Easting','Northing','Spot_Height']\n",
    "\n",
    "#View data\n",
    "Topo_Data.head(5)"
   ]
  },
  {
   "cell_type": "code",
   "execution_count": 3,
   "metadata": {},
   "outputs": [
    {
     "name": "stdout",
     "output_type": "stream",
     "text": [
      "Number of instances, No of features\n"
     ]
    },
    {
     "data": {
      "text/plain": [
       "(9373, 3)"
      ]
     },
     "execution_count": 3,
     "metadata": {},
     "output_type": "execute_result"
    }
   ],
   "source": [
    "#Check Nunmber of instances\n",
    "print('Number of instances, No of features')\n",
    "Topo_Data.shape[0],Topo_Data.shape[1]"
   ]
  },
  {
   "cell_type": "code",
   "execution_count": 75,
   "metadata": {},
   "outputs": [],
   "source": [
    "#Create data split function\n",
    "def data_split(data):\n",
    "    random_state=1\n",
    "    Split_idx=np.random.permutation(len(data))\n",
    "    n_ins=int(0.20*len(data))#no of instances\n",
    "    Test_idx=Split_idx[:n_ins]\n",
    "    Train_idx=Split_idx[n_ins:]\n",
    "    return data.iloc[Train_idx],data.iloc[Test_idx]\n",
    "\n",
    "Train_data,Test_Data=data_split(Topo_Data)\n",
    "cols=['Easting','Northing']\n",
    "Needed_Train=Train_data[cols].copy()\n",
    "Needed_Target=Train_data['Spot_Height']\n",
    "Needed_testdata=Test_Data[cols].copy()"
   ]
  },
  {
   "cell_type": "code",
   "execution_count": 70,
   "metadata": {},
   "outputs": [
    {
     "data": {
      "text/plain": [
       "MeanShift(bandwidth=234.34752830989976, bin_seeding=True, cluster_all=True,\n",
       "     min_bin_freq=1, n_jobs=None, seeds=None)"
      ]
     },
     "execution_count": 70,
     "metadata": {},
     "output_type": "execute_result"
    }
   ],
   "source": [
    "#cluster using MeanShift Clusterer\n",
    "#calculate data bandwidth\n",
    "bandwidth_T = estimate_bandwidth(Needed_Train, quantile=0.1, n_samples=len(Needed_Train))\n",
    "\n",
    "# Cluster data with MeanShift\n",
    "MS_model = MeanShift(bandwidth=bandwidth_T, bin_seeding=True)\n",
    "MS_model.fit(Needed_Train)"
   ]
  },
  {
   "cell_type": "code",
   "execution_count": 71,
   "metadata": {},
   "outputs": [
    {
     "name": "stdout",
     "output_type": "stream",
     "text": [
      "\n",
      "Centers of clusters:\n",
      " [[543297.45937306 719891.16187306]\n",
      " [543259.04619478 720435.76469519]\n",
      " [543830.34055687 719987.672877  ]\n",
      " [542912.85840541 720474.35522222]\n",
      " [544283.06801927 720353.42424694]\n",
      " [543859.02553649 719642.04797239]\n",
      " [543900.0014064  719220.55234975]\n",
      " [543635.69266102 720465.59444068]]\n",
      "\n",
      "Number of clusters in input data = 8\n"
     ]
    }
   ],
   "source": [
    "# Extract the centers of clusters\n",
    "cluster_centers = MS_model.cluster_centers_\n",
    "print('\\nCenters of clusters:\\n', cluster_centers)\n",
    "\n",
    "#Extract the number of clusters:\n",
    "# Estimate the number of clusters\n",
    "labels = MS_model.labels_\n",
    "num_clusters = len(np.unique(labels))\n",
    "print(\"\\nNumber of clusters in input data =\", num_clusters)"
   ]
  },
  {
   "cell_type": "code",
   "execution_count": 47,
   "metadata": {},
   "outputs": [
    {
     "data": {
      "image/png": "[encoded data removed]",
      "text/plain": [
       "<Figure size 720x360 with 1 Axes>"
      ]
     },
     "metadata": {
      "needs_background": "light"
     },
     "output_type": "display_data"
    }
   ],
   "source": [
    "#Visualize and cluster centers\n",
    "plt.figure(figsize=(10,5))\n",
    "markers ='o*xv+x.^'\n",
    "for i, marker in zip(range(num_clusters),markers):\n",
    "    #plt.scatter(Needed_Train[(labels==i),0],Needed_Train[(labels==i),1],marker=marker,color='red')\n",
    "    cluster_center=cluster_centers[i]\n",
    "    plt.plot(cluster_center[0],cluster_center[1],marker='*',markerfacecolor='blue', markeredgecolor='yellow',markersize=10)\n",
    "plt.title('Clusters')\n",
    "plt.show()"
   ]
  },
  {
   "cell_type": "code",
   "execution_count": 13,
   "metadata": {},
   "outputs": [
    {
     "name": "stdout",
     "output_type": "stream",
     "text": [
      "\n",
      "Number of cluster = 1\n",
      "Silhouette score = 0.5193993313317863\n",
      "\n",
      "Number of cluster = 2\n",
      "Silhouette score = 0.5193993313317863\n",
      "\n",
      "Number of cluster = 3\n",
      "Silhouette score = 0.5193993313317863\n",
      "\n",
      "Number of cluster = 4\n",
      "Silhouette score = 0.5193993313317863\n",
      "\n",
      "Number of cluster = 5\n",
      "Silhouette score = 0.5193993313317863\n",
      "\n",
      "Number of cluster = 6\n",
      "Silhouette score = 0.5193993313317863\n",
      "\n",
      "Number of cluster = 7\n",
      "Silhouette score = 0.5193993313317863\n",
      "\n",
      "Number of cluster = 8\n",
      "Silhouette score = 0.5193993313317863\n"
     ]
    }
   ],
   "source": [
    "# Evaluating quality of clusters using silhouette scores\n",
    "scores=[]\n",
    "values = np.arange(1, 9)\n",
    "for num_clusters in values:\n",
    "    score = m.silhouette_score(Needed_Train, MS_model.labels_,metric='euclidean', sample_size=len(Needed_Train))\n",
    "    print(\"\\nNumber of cluster =\", num_clusters)\n",
    "    print(\"Silhouette score =\",score)\n",
    "scores.append(score)"
   ]
  },
  {
   "cell_type": "code",
   "execution_count": 52,
   "metadata": {},
   "outputs": [],
   "source": [
    "#A trial with Affinity Propagation Clusterer\n",
    "from sklearn import covariance, cluster\n",
    "\n",
    "# Create a graph model\n",
    "edge_model = covariance.GraphicalLassoCV(cv=5)"
   ]
  },
  {
   "cell_type": "code",
   "execution_count": 53,
   "metadata": {},
   "outputs": [],
   "source": [
    "# Train the model\n",
    "with np.errstate(invalid='ignore'):\n",
    "    edge_model.fit(Needed_Train)"
   ]
  },
  {
   "cell_type": "code",
   "execution_count": 54,
   "metadata": {},
   "outputs": [
    {
     "name": "stderr",
     "output_type": "stream",
     "text": [
      "C:\\ProgramData\\Anaconda3\\lib\\site-packages\\sklearn\\cluster\\affinity_propagation_.py:125: UserWarning: All samples have mutually equal similarities. Returning arbitrary cluster center(s).\n",
      "  warnings.warn(\"All samples have mutually equal similarities. \"\n"
     ]
    }
   ],
   "source": [
    "# Build clustering model using Affinity Propagation model\n",
    "k,labels = cluster.affinity_propagation(edge_model.covariance_)\n",
    "num_labels = labels.max()"
   ]
  },
  {
   "cell_type": "code",
   "execution_count": 74,
   "metadata": {},
   "outputs": [
    {
     "name": "stdout",
     "output_type": "stream",
     "text": [
      "Cluster 1 ==> S/N\n",
      "1532    3.076\n",
      "1134    2.499\n",
      "2745    3.850\n",
      "5750    5.256\n",
      "7914    6.023\n",
      "6136    5.411\n",
      "9127    7.481\n",
      "8572    6.488\n",
      "449     1.791\n",
      "7993    6.048\n",
      "9104    7.387\n",
      "5436    5.174\n",
      "749     2.004\n",
      "5073    5.035\n",
      "7155    5.775\n",
      "5008    5.004\n",
      "4563    4.810\n",
      "7740    5.986\n",
      "594     1.925\n",
      "3335    4.182\n",
      "319     1.664\n",
      "656     1.955\n",
      "5600    5.223\n",
      "4299    4.683\n",
      "6878    5.687\n",
      "2723    3.835\n",
      "6429    5.504\n",
      "698     1.970\n",
      "6038    5.378\n",
      "1987    3.418\n",
      "        ...  \n",
      "888     2.149\n",
      "468     1.813\n",
      "6282    5.455\n",
      "2309    3.530\n",
      "9276    8.394\n",
      "3874    4.442\n",
      "978     2.268\n",
      "6559    5.553\n",
      "7582    5.930\n",
      "1257    2.712\n",
      "127     1.329\n",
      "6856    5.677\n",
      "2968    4.002\n",
      "1706    3.217\n",
      "5761    5.259\n",
      "3247    4.124\n",
      "2714    3.828\n",
      "11      1.080\n",
      "1839    3.302\n",
      "3654    4.325\n",
      "5914    5.316\n",
      "8258    6.149\n",
      "8967    6.951\n",
      "1333    2.816\n",
      "7108    5.755\n",
      "16      1.134\n",
      "1561    3.097\n",
      "7572    5.927\n",
      "2938    3.982\n",
      "5318    5.133\n",
      "Name: Spot_Height, Length: 2383, dtype: float64\n",
      "Cluster 2 ==> S/N\n",
      "6623    5.580\n",
      "6395    5.492\n",
      "5514    5.197\n",
      "1434    2.946\n",
      "7422    5.868\n",
      "3686    4.347\n",
      "1400    2.908\n",
      "2608    3.733\n",
      "2716    3.831\n",
      "7640    5.951\n",
      "4933    4.963\n",
      "5159    5.065\n",
      "2370    3.559\n",
      "2730    3.838\n",
      "6390    5.490\n",
      "8661    6.595\n",
      "3582    4.283\n",
      "4315    4.697\n",
      "5911    5.315\n",
      "4453    4.761\n",
      "7669    5.962\n",
      "3357    4.191\n",
      "366     1.725\n",
      "8578    6.497\n",
      "7504    5.903\n",
      "1127    2.490\n",
      "7223    5.800\n",
      "7719    5.980\n",
      "1731    3.235\n",
      "5599    5.223\n",
      "        ...  \n",
      "122     1.317\n",
      "595     1.926\n",
      "6242    5.440\n",
      "9032    7.097\n",
      "6764    5.642\n",
      "6887    5.690\n",
      "9224    8.276\n",
      "5909    5.314\n",
      "3182    4.077\n",
      "3138    4.054\n",
      "592     1.925\n",
      "6815    5.662\n",
      "622     1.937\n",
      "1822    3.295\n",
      "2955    3.995\n",
      "6338    5.475\n",
      "7032    5.735\n",
      "6506    5.532\n",
      "7016    5.730\n",
      "5254    5.098\n",
      "1848    3.314\n",
      "1600    3.140\n",
      "2796    3.884\n",
      "2474    3.633\n",
      "2996    4.019\n",
      "1788    3.276\n",
      "1585    3.122\n",
      "5220    5.085\n",
      "4222    4.648\n",
      "7667    5.962\n",
      "Name: Spot_Height, Length: 1380, dtype: float64\n"
     ]
    }
   ],
   "source": [
    "\n",
    "for i in range(num_labels + 1):\n",
    "    print(\"Cluster\", i+1, \"==>\",(Needed_Target[labels==i]))"
   ]
  },
  {
   "cell_type": "code",
   "execution_count": 166,
   "metadata": {},
   "outputs": [
    {
     "data": {
      "text/html": [
       "<div>\n",
       "<style scoped>\n",
       "    .dataframe tbody tr th:only-of-type {\n",
       "        vertical-align: middle;\n",
       "    }\n",
       "\n",
       "    .dataframe tbody tr th {\n",
       "        vertical-align: top;\n",
       "    }\n",
       "\n",
       "    .dataframe thead th {\n",
       "        text-align: right;\n",
       "    }\n",
       "</style>\n",
       "<table border=\"1\" class=\"dataframe\">\n",
       "  <thead>\n",
       "    <tr style=\"text-align: right;\">\n",
       "      <th></th>\n",
       "      <th>Instance_Predicted_Cluster_Number</th>\n",
       "    </tr>\n",
       "  </thead>\n",
       "  <tbody>\n",
       "    <tr>\n",
       "      <th>0</th>\n",
       "      <td>4</td>\n",
       "    </tr>\n",
       "    <tr>\n",
       "      <th>1</th>\n",
       "      <td>0</td>\n",
       "    </tr>\n",
       "    <tr>\n",
       "      <th>2</th>\n",
       "      <td>5</td>\n",
       "    </tr>\n",
       "    <tr>\n",
       "      <th>3</th>\n",
       "      <td>0</td>\n",
       "    </tr>\n",
       "    <tr>\n",
       "      <th>4</th>\n",
       "      <td>3</td>\n",
       "    </tr>\n",
       "  </tbody>\n",
       "</table>\n",
       "</div>"
      ],
      "text/plain": [
       "   Instance_Predicted_Cluster_Number\n",
       "0                                  4\n",
       "1                                  0\n",
       "2                                  5\n",
       "3                                  0\n",
       "4                                  3"
      ]
     },
     "execution_count": 166,
     "metadata": {},
     "output_type": "execute_result"
    }
   ],
   "source": [
    "#Let's try predict clusters of test dataset using MeanShift model\n",
    "cluster_predicts=MS_model.predict(Needed_testdata)\n",
    "Predicted_Cluster_Number=list(cluster_predicts)\n",
    "Pred_table=pd.DataFrame(Predicted_Cluster_Number,columns=['Instance_Predicted_Cluster_Number'])\n",
    "\n",
    "Pred_table[:5]"
   ]
  },
  {
   "cell_type": "code",
   "execution_count": 167,
   "metadata": {},
   "outputs": [
    {
     "data": {
      "text/html": [
       "<div>\n",
       "<style scoped>\n",
       "    .dataframe tbody tr th:only-of-type {\n",
       "        vertical-align: middle;\n",
       "    }\n",
       "\n",
       "    .dataframe tbody tr th {\n",
       "        vertical-align: top;\n",
       "    }\n",
       "\n",
       "    .dataframe thead th {\n",
       "        text-align: right;\n",
       "    }\n",
       "</style>\n",
       "<table border=\"1\" class=\"dataframe\">\n",
       "  <thead>\n",
       "    <tr style=\"text-align: right;\">\n",
       "      <th></th>\n",
       "      <th>Easting</th>\n",
       "      <th>Northing</th>\n",
       "    </tr>\n",
       "    <tr>\n",
       "      <th>S/N</th>\n",
       "      <th></th>\n",
       "      <th></th>\n",
       "    </tr>\n",
       "  </thead>\n",
       "  <tbody>\n",
       "    <tr>\n",
       "      <th>701</th>\n",
       "      <td>544139.684</td>\n",
       "      <td>720369.567</td>\n",
       "    </tr>\n",
       "    <tr>\n",
       "      <th>887</th>\n",
       "      <td>543376.846</td>\n",
       "      <td>719940.544</td>\n",
       "    </tr>\n",
       "    <tr>\n",
       "      <th>8623</th>\n",
       "      <td>543725.192</td>\n",
       "      <td>719774.536</td>\n",
       "    </tr>\n",
       "    <tr>\n",
       "      <th>4177</th>\n",
       "      <td>543163.795</td>\n",
       "      <td>720101.313</td>\n",
       "    </tr>\n",
       "    <tr>\n",
       "      <th>137</th>\n",
       "      <td>542781.530</td>\n",
       "      <td>720459.801</td>\n",
       "    </tr>\n",
       "  </tbody>\n",
       "</table>\n",
       "</div>"
      ],
      "text/plain": [
       "         Easting    Northing\n",
       "S/N                         \n",
       "701   544139.684  720369.567\n",
       "887   543376.846  719940.544\n",
       "8623  543725.192  719774.536\n",
       "4177  543163.795  720101.313\n",
       "137   542781.530  720459.801"
      ]
     },
     "execution_count": 167,
     "metadata": {},
     "output_type": "execute_result"
    }
   ],
   "source": [
    "Needed_testdata[:5]"
   ]
  },
  {
   "cell_type": "code",
   "execution_count": null,
   "metadata": {},
   "outputs": [],
   "source": []
  }
 ],
 "metadata": {
  "kernelspec": {
   "display_name": "Python 3",
   "language": "python",
   "name": "python3"
  },
  "language_info": {
   "codemirror_mode": {
    "name": "ipython",
    "version": 3
   },
   "file_extension": ".py",
   "mimetype": "text/x-python",
   "name": "python",
   "nbconvert_exporter": "python",
   "pygments_lexer": "ipython3",
   "version": "3.7.3"
  }
 },
 "nbformat": 4,
 "nbformat_minor": 2
}
