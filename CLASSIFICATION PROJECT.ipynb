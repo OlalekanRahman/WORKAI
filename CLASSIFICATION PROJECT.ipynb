{
 "cells": [
  {
   "cell_type": "code",
   "execution_count": 2,
   "metadata": {},
   "outputs": [
    {
     "data": {
      "text/html": [
       "<div>\n",
       "<style scoped>\n",
       "    .dataframe tbody tr th:only-of-type {\n",
       "        vertical-align: middle;\n",
       "    }\n",
       "\n",
       "    .dataframe tbody tr th {\n",
       "        vertical-align: top;\n",
       "    }\n",
       "\n",
       "    .dataframe thead th {\n",
       "        text-align: right;\n",
       "    }\n",
       "</style>\n",
       "<table border=\"1\" class=\"dataframe\">\n",
       "  <thead>\n",
       "    <tr style=\"text-align: right;\">\n",
       "      <th></th>\n",
       "      <th>Y_O_REP</th>\n",
       "      <th>AGE</th>\n",
       "      <th>SEX</th>\n",
       "      <th>OCCUP</th>\n",
       "      <th>MAR_STA</th>\n",
       "      <th>DUR_EPIS</th>\n",
       "      <th>P_PSY_HX</th>\n",
       "      <th>P_MED_HX</th>\n",
       "      <th>FAM_P_HX</th>\n",
       "      <th>P_SOC_HX</th>\n",
       "      <th>...</th>\n",
       "      <th>INT_GFK</th>\n",
       "      <th>INT_S_A_D</th>\n",
       "      <th>INT_CAL</th>\n",
       "      <th>INT_PROV</th>\n",
       "      <th>JUDGMT</th>\n",
       "      <th>INSIGHT</th>\n",
       "      <th>PSE</th>\n",
       "      <th>EEG</th>\n",
       "      <th>DIAGN</th>\n",
       "      <th>CLASS</th>\n",
       "    </tr>\n",
       "  </thead>\n",
       "  <tbody>\n",
       "    <tr>\n",
       "      <th>0</th>\n",
       "      <td>2015</td>\n",
       "      <td>56</td>\n",
       "      <td>F</td>\n",
       "      <td>NURSE</td>\n",
       "      <td>WIDOW</td>\n",
       "      <td>0.5</td>\n",
       "      <td>RAPE</td>\n",
       "      <td>HYPTENSIVE</td>\n",
       "      <td>NO</td>\n",
       "      <td>YES</td>\n",
       "      <td>...</td>\n",
       "      <td>NaN</td>\n",
       "      <td>NaN</td>\n",
       "      <td>NaN</td>\n",
       "      <td>NaN</td>\n",
       "      <td>NaN</td>\n",
       "      <td>PARTIAL</td>\n",
       "      <td>GOOD</td>\n",
       "      <td>NORMAL</td>\n",
       "      <td>PARANOID SCHIZ</td>\n",
       "      <td>SCHIZ</td>\n",
       "    </tr>\n",
       "    <tr>\n",
       "      <th>1</th>\n",
       "      <td>2016</td>\n",
       "      <td>28</td>\n",
       "      <td>F</td>\n",
       "      <td>UNEMPLOYED</td>\n",
       "      <td>MARRIED</td>\n",
       "      <td>48.0</td>\n",
       "      <td>NaN</td>\n",
       "      <td>NaN</td>\n",
       "      <td>NaN</td>\n",
       "      <td>NaN</td>\n",
       "      <td>...</td>\n",
       "      <td>NaN</td>\n",
       "      <td>NaN</td>\n",
       "      <td>NaN</td>\n",
       "      <td>NaN</td>\n",
       "      <td>POOR</td>\n",
       "      <td>POOR</td>\n",
       "      <td>GOOD</td>\n",
       "      <td>NORMAL</td>\n",
       "      <td>PARANOID SCHIZ</td>\n",
       "      <td>SCHIZ</td>\n",
       "    </tr>\n",
       "    <tr>\n",
       "      <th>2</th>\n",
       "      <td>2016</td>\n",
       "      <td>26</td>\n",
       "      <td>M</td>\n",
       "      <td>UNEMPLOYED</td>\n",
       "      <td>SINGLE</td>\n",
       "      <td>1.0</td>\n",
       "      <td>NO</td>\n",
       "      <td>SHORT-SIGHT</td>\n",
       "      <td>NO</td>\n",
       "      <td>NO</td>\n",
       "      <td>...</td>\n",
       "      <td>NaN</td>\n",
       "      <td>NaN</td>\n",
       "      <td>NaN</td>\n",
       "      <td>NaN</td>\n",
       "      <td>POOR</td>\n",
       "      <td>PARTIAL</td>\n",
       "      <td>GOOD</td>\n",
       "      <td>NORMAL</td>\n",
       "      <td>PARANOID SCHIZ</td>\n",
       "      <td>SCHIZ</td>\n",
       "    </tr>\n",
       "    <tr>\n",
       "      <th>3</th>\n",
       "      <td>2016</td>\n",
       "      <td>20</td>\n",
       "      <td>M</td>\n",
       "      <td>STUDENT</td>\n",
       "      <td>SINGLE</td>\n",
       "      <td>2.0</td>\n",
       "      <td>NaN</td>\n",
       "      <td>NaN</td>\n",
       "      <td>NaN</td>\n",
       "      <td>YES</td>\n",
       "      <td>...</td>\n",
       "      <td>NaN</td>\n",
       "      <td>NaN</td>\n",
       "      <td>NaN</td>\n",
       "      <td>NaN</td>\n",
       "      <td>NaN</td>\n",
       "      <td>NaN</td>\n",
       "      <td>GOOD</td>\n",
       "      <td>NORMAL</td>\n",
       "      <td>PARANOID SCHIZ</td>\n",
       "      <td>SCHIZ</td>\n",
       "    </tr>\n",
       "    <tr>\n",
       "      <th>4</th>\n",
       "      <td>2016</td>\n",
       "      <td>34</td>\n",
       "      <td>F</td>\n",
       "      <td>UNEMPLOYED</td>\n",
       "      <td>SINGLE</td>\n",
       "      <td>6.0</td>\n",
       "      <td>NaN</td>\n",
       "      <td>NaN</td>\n",
       "      <td>NaN</td>\n",
       "      <td>NaN</td>\n",
       "      <td>...</td>\n",
       "      <td>NaN</td>\n",
       "      <td>NaN</td>\n",
       "      <td>NaN</td>\n",
       "      <td>NaN</td>\n",
       "      <td>NaN</td>\n",
       "      <td>POOR</td>\n",
       "      <td>GOOD</td>\n",
       "      <td>NORMAL</td>\n",
       "      <td>PARANOID SCHIZ</td>\n",
       "      <td>SCHIZ</td>\n",
       "    </tr>\n",
       "  </tbody>\n",
       "</table>\n",
       "<p>5 rows × 38 columns</p>\n",
       "</div>"
      ],
      "text/plain": [
       "   Y_O_REP  AGE SEX       OCCUP  MAR_STA  DUR_EPIS P_PSY_HX     P_MED_HX  \\\n",
       "0     2015   56   F       NURSE    WIDOW       0.5     RAPE   HYPTENSIVE   \n",
       "1     2016   28   F  UNEMPLOYED  MARRIED      48.0      NaN          NaN   \n",
       "2     2016   26   M  UNEMPLOYED   SINGLE       1.0       NO  SHORT-SIGHT   \n",
       "3     2016   20   M     STUDENT   SINGLE       2.0      NaN          NaN   \n",
       "4     2016   34   F  UNEMPLOYED   SINGLE       6.0      NaN          NaN   \n",
       "\n",
       "  FAM_P_HX P_SOC_HX  ... INT_GFK INT_S_A_D INT_CAL INT_PROV JUDGMT  INSIGHT  \\\n",
       "0       NO      YES  ...     NaN       NaN     NaN      NaN    NaN  PARTIAL   \n",
       "1      NaN      NaN  ...     NaN       NaN     NaN      NaN   POOR     POOR   \n",
       "2       NO       NO  ...     NaN       NaN     NaN      NaN   POOR  PARTIAL   \n",
       "3      NaN      YES  ...     NaN       NaN     NaN      NaN    NaN      NaN   \n",
       "4      NaN      NaN  ...     NaN       NaN     NaN      NaN    NaN     POOR   \n",
       "\n",
       "    PSE     EEG           DIAGN  CLASS  \n",
       "0  GOOD  NORMAL  PARANOID SCHIZ  SCHIZ  \n",
       "1  GOOD  NORMAL  PARANOID SCHIZ  SCHIZ  \n",
       "2  GOOD  NORMAL  PARANOID SCHIZ  SCHIZ  \n",
       "3  GOOD  NORMAL  PARANOID SCHIZ  SCHIZ  \n",
       "4  GOOD  NORMAL  PARANOID SCHIZ  SCHIZ  \n",
       "\n",
       "[5 rows x 38 columns]"
      ]
     },
     "execution_count": 2,
     "metadata": {},
     "output_type": "execute_result"
    }
   ],
   "source": [
    "import pandas as pd\n",
    "from pandas import read_csv\n",
    "data1=pd.read_csv('used_PROJECT_DATANEW.csv')\n",
    "data=data1\n",
    "data1.head(5)\n"
   ]
  },
  {
   "cell_type": "code",
   "execution_count": 3,
   "metadata": {},
   "outputs": [
    {
     "name": "stdout",
     "output_type": "stream",
     "text": [
      "Y_O_REP         int64\n",
      "AGE             int64\n",
      "SEX            object\n",
      "OCCUP          object\n",
      "MAR_STA        object\n",
      "DUR_EPIS      float64\n",
      "P_PSY_HX       object\n",
      "P_MED_HX       object\n",
      "FAM_P_HX       object\n",
      "P_SOC_HX       object\n",
      "P_SEX_HX       object\n",
      "FOR_HX         object\n",
      "PREMOBD_HX     object\n",
      "MSE            object\n",
      "SPEECH         object\n",
      "MOOD           object\n",
      "AFFECT         object\n",
      "TH_FORM        object\n",
      "TH_STRM        object\n",
      "TH_CONTENT     object\n",
      "TH_POSS        object\n",
      "PERCEP         object\n",
      "ORIENT         object\n",
      "ATTEN          object\n",
      "CONC           object\n",
      "MEM_IR         object\n",
      "MEM_ST         object\n",
      "MEM_LT         object\n",
      "INT_GFK        object\n",
      "INT_S_A_D      object\n",
      "INT_CAL        object\n",
      "INT_PROV       object\n",
      "JUDGMT         object\n",
      "INSIGHT        object\n",
      "PSE            object\n",
      "EEG            object\n",
      "DIAGN          object\n",
      "CLASS          object\n",
      "dtype: object\n"
     ]
    }
   ],
   "source": [
    "print(data.dtypes)"
   ]
  },
  {
   "cell_type": "code",
   "execution_count": 4,
   "metadata": {},
   "outputs": [
    {
     "name": "stdout",
     "output_type": "stream",
     "text": [
      "   OCCUP  MAR_STA  DUR_EPIS  P_PSY_HX  P_MED_HX  FAM_P_HX  P_SOC_HX  P_SEX_HX  \\\n",
      "0      3        4       0.5         3         9         1         2         2   \n",
      "1      8        3      48.0         0         0         0         0         0   \n",
      "2      8        1       1.0         4        10         1         1         2   \n",
      "3      2        1       2.0         0         0         0         2         2   \n",
      "4      8        1       6.0         0         0         0         0         0   \n",
      "\n",
      "   FOR_HX  PREMOBD_HX  ...  MEM_LT  INT_GFK  INT_S_A_D  INT_CAL  INT_PROV  \\\n",
      "0       1           0  ...       3        0          0        0         0   \n",
      "1       0           0  ...       0        0          0        0         0   \n",
      "2       2           2  ...       3        0          0        0         0   \n",
      "3       1           0  ...       1        0          0        0         0   \n",
      "4       0           0  ...       1        0          0        0         0   \n",
      "\n",
      "   JUDGMT  INSIGHT  PSE  EEG  CLASS  \n",
      "0       0        2    1    0      1  \n",
      "1       1        3    1    0      1  \n",
      "2       1        2    1    0      1  \n",
      "3       0        0    1    0      1  \n",
      "4       0        3    1    0      1  \n",
      "\n",
      "[5 rows x 34 columns]\n"
     ]
    },
    {
     "name": "stderr",
     "output_type": "stream",
     "text": [
      "C:\\ProgramData\\Anaconda3\\lib\\site-packages\\ipykernel_launcher.py:8: FutureWarning: convert_objects is deprecated.  To re-infer data dtypes for object columns, use DataFrame.infer_objects()\n",
      "For all other conversions use the data-type specific converters pd.to_datetime, pd.to_timedelta and pd.to_numeric.\n",
      "  \n"
     ]
    }
   ],
   "source": [
    "import matplotlib.pyplot as plt\n",
    "from matplotlib import style\n",
    "style.use('ggplot')\n",
    "import numpy as np\n",
    "import pandas as pd\n",
    "data.drop(['Y_O_REP','AGE','SEX','DIAGN'], axis = 1, inplace = True)\n",
    "#data.drop(['DIAGN'], axis = 1, inplace = True)\n",
    "#data.convert_objects(convert_numeric=True)\n",
    "data.fillna(0, inplace=True)\n",
    "def handle_non_num_data(data):\n",
    "    columns=data.columns.values\n",
    "    for column in columns:\n",
    "        text_digit_vals={}\n",
    "        def convert_to_int(val):\n",
    "            return text_digit_vals[val]\n",
    "        if data[column].dtype != np.int64 and data[column].dtype != np.float64:\n",
    "            column_contents=data[column].values.tolist()\n",
    "            unique_elements=set(column_contents)\n",
    "            x = 0\n",
    "            for unique in unique_elements:\n",
    "                if unique not in text_digit_vals:\n",
    "                    text_digit_vals[unique] = x\n",
    "                    x+=1\n",
    "            data[column]=list(map(convert_to_int, data[column]))\n",
    "    return data\n",
    "data= handle_non_num_data(data)\n",
    "print(data.head())\n",
    "#print(data.CLASS)\n"
   ]
  },
  {
   "cell_type": "code",
   "execution_count": 5,
   "metadata": {},
   "outputs": [
    {
     "name": "stdout",
     "output_type": "stream",
     "text": [
      "CLASS\n",
      "0    54\n",
      "1    97\n",
      "dtype: int64\n"
     ]
    }
   ],
   "source": [
    "class_counts = data.groupby('CLASS').size()\n",
    "print(class_counts)"
   ]
  },
  {
   "cell_type": "code",
   "execution_count": 6,
   "metadata": {},
   "outputs": [
    {
     "name": "stdout",
     "output_type": "stream",
     "text": [
      "            OCCUP     MAR_STA    DUR_EPIS    P_PSY_HX    P_MED_HX    FAM_P_HX  \\\n",
      "count  151.000000  151.000000  151.000000  151.000000  151.000000  151.000000   \n",
      "mean     6.569536    1.688742   59.253311    4.529801    8.556291    1.092715   \n",
      "std      5.100993    1.033992   94.303888    1.975881    6.005149    0.603887   \n",
      "min      0.000000    0.000000    0.000000    0.000000    0.000000    0.000000   \n",
      "25%      2.000000    1.000000    2.000000    4.000000    1.000000    1.000000   \n",
      "50%      5.000000    1.000000   24.000000    6.000000   12.000000    1.000000   \n",
      "75%      8.000000    3.000000   60.000000    6.000000   13.000000    1.000000   \n",
      "max     20.000000    4.000000  384.000000    6.000000   18.000000    2.000000   \n",
      "\n",
      "         P_SOC_HX    P_SEX_HX      FOR_HX  PREMOBD_HX  ...      MEM_LT  \\\n",
      "count  151.000000  151.000000  151.000000  151.000000  ...  151.000000   \n",
      "mean     1.245033    1.629139    0.933775    1.622517  ...    2.052980   \n",
      "std      0.599632    0.805116    0.442250    0.957369  ...    1.164978   \n",
      "min      0.000000    0.000000    0.000000    0.000000  ...    0.000000   \n",
      "25%      1.000000    2.000000    1.000000    1.000000  ...    1.000000   \n",
      "50%      1.000000    2.000000    1.000000    2.000000  ...    3.000000   \n",
      "75%      2.000000    2.000000    1.000000    2.000000  ...    3.000000   \n",
      "max      2.000000    3.000000    2.000000    5.000000  ...    3.000000   \n",
      "\n",
      "          INT_GFK   INT_S_A_D     INT_CAL    INT_PROV      JUDGMT     INSIGHT  \\\n",
      "count  151.000000  151.000000  151.000000  151.000000  151.000000  151.000000   \n",
      "mean     1.536424    1.470199    1.357616    1.397351    1.158940    1.927152   \n",
      "std      1.398927    1.399085    1.372804    1.390825    0.740205    1.071443   \n",
      "min      0.000000    0.000000    0.000000    0.000000    0.000000    0.000000   \n",
      "25%      0.000000    0.000000    0.000000    0.000000    1.000000    1.000000   \n",
      "50%      2.000000    1.000000    1.000000    1.000000    1.000000    2.000000   \n",
      "75%      3.000000    3.000000    3.000000    3.000000    2.000000    3.000000   \n",
      "max      3.000000    3.000000    3.000000    3.000000    2.000000    4.000000   \n",
      "\n",
      "              PSE         EEG       CLASS  \n",
      "count  151.000000  151.000000  151.000000  \n",
      "mean     1.748344    0.039735    0.642384  \n",
      "std      0.685259    0.195986    0.480893  \n",
      "min      0.000000    0.000000    0.000000  \n",
      "25%      1.000000    0.000000    0.000000  \n",
      "50%      2.000000    0.000000    1.000000  \n",
      "75%      2.000000    0.000000    1.000000  \n",
      "max      3.000000    1.000000    1.000000  \n",
      "\n",
      "[8 rows x 34 columns]\n"
     ]
    }
   ],
   "source": [
    "data_discr=data.describe()\n",
    "print(data_discr)"
   ]
  },
  {
   "cell_type": "code",
   "execution_count": 7,
   "metadata": {},
   "outputs": [
    {
     "name": "stdout",
     "output_type": "stream",
     "text": [
      "               OCCUP   MAR_STA  DUR_EPIS  P_PSY_HX  P_MED_HX  FAM_P_HX  P_SOC_HX  P_SEX_HX  \\\n",
      "OCCUP       1.00e+00  5.15e-02  1.79e-01 -1.36e-02 -1.22e-01     -0.28     -0.07     -0.17   \n",
      "MAR_STA     5.15e-02  1.00e+00  5.10e-02 -3.24e-04  8.82e-02      0.09     -0.05      0.09   \n",
      "DUR_EPIS    1.79e-01  5.10e-02  1.00e+00  3.20e-01 -2.46e-01      0.18      0.13      0.02   \n",
      "P_PSY_HX   -1.36e-02 -3.24e-04  3.20e-01  1.00e+00  3.51e-01      0.38      0.37      0.33   \n",
      "P_MED_HX   -1.22e-01  8.82e-02 -2.46e-01  3.51e-01  1.00e+00      0.36      0.14      0.47   \n",
      "FAM_P_HX   -2.77e-01  8.92e-02  1.78e-01  3.78e-01  3.57e-01      1.00      0.23      0.40   \n",
      "P_SOC_HX   -6.99e-02 -4.82e-02  1.34e-01  3.68e-01  1.38e-01      0.23      1.00      0.53   \n",
      "P_SEX_HX   -1.72e-01  9.27e-02  2.29e-02  3.34e-01  4.69e-01      0.40      0.53      1.00   \n",
      "FOR_HX     -2.85e-01  5.67e-02  1.46e-01  4.60e-01  3.33e-01      0.42      0.51      0.68   \n",
      "PREMOBD_HX -1.58e-01  2.19e-02  2.83e-01  5.43e-01  4.00e-01      0.52      0.35      0.49   \n",
      "MSE         1.17e-01  3.61e-01  1.08e-01  1.59e-01  1.47e-01      0.20     -0.02      0.05   \n",
      "SPEECH     -5.30e-03  2.82e-02  4.19e-02  1.22e-01 -7.78e-02      0.17     -0.03     -0.01   \n",
      "MOOD       -1.52e-02  1.16e-02 -7.49e-03  9.32e-02  2.13e-02     -0.02      0.07     -0.04   \n",
      "AFFECT      7.46e-02  8.30e-02 -1.03e-01 -4.34e-02  9.49e-02      0.04     -0.01      0.07   \n",
      "TH_FORM     1.29e-01 -4.23e-02  7.88e-02  4.15e-01  3.13e-01      0.29      0.35      0.23   \n",
      "TH_STRM    -8.14e-02 -1.25e-01  1.55e-02  2.15e-01  1.37e-01      0.25      0.14     -0.03   \n",
      "TH_CONTENT  5.51e-02  1.82e-01  5.50e-02 -1.83e-01 -9.59e-02      0.04      0.04     -0.07   \n",
      "TH_POSS    -1.13e-02  6.24e-02  1.24e-01  3.20e-01  1.97e-01      0.22      0.34      0.31   \n",
      "PERCEP      3.64e-02 -4.69e-02 -2.48e-02  2.74e-01  2.05e-01      0.15      0.29      0.28   \n",
      "ORIENT      5.96e-02 -3.99e-04 -9.10e-02 -5.02e-03 -2.56e-02      0.04      0.24      0.08   \n",
      "ATTEN       2.95e-01  6.45e-02 -7.01e-02 -4.70e-02 -9.19e-02     -0.07      0.09     -0.16   \n",
      "CONC        4.06e-02 -7.80e-02 -3.92e-02 -8.61e-03  2.17e-03      0.08      0.24      0.14   \n",
      "MEM_IR     -7.29e-02  8.17e-02  1.13e-02  1.89e-01  8.61e-02      0.16      0.20      0.12   \n",
      "MEM_ST     -1.02e-01 -4.24e-02  8.68e-02  1.18e-01  7.22e-03      0.05      0.19      0.05   \n",
      "MEM_LT     -4.89e-02 -5.82e-02  7.46e-02  9.20e-02  1.65e-01      0.01      0.14      0.09   \n",
      "INT_GFK    -5.24e-02  6.55e-02 -3.50e-03  1.64e-01  2.27e-01      0.22      0.18      0.15   \n",
      "INT_S_A_D  -2.10e-02 -3.18e-02 -3.07e-02  1.38e-01  2.71e-01      0.18      0.17      0.13   \n",
      "INT_CAL    -1.84e-01 -6.67e-02 -9.09e-02  1.09e-01  2.03e-01      0.18      0.17      0.04   \n",
      "INT_PROV   -1.14e-02  4.02e-02 -1.36e-02  1.29e-01  2.98e-01      0.23      0.12      0.10   \n",
      "JUDGMT      2.07e-01 -8.30e-02  8.53e-02  7.88e-02  4.90e-02      0.01      0.12      0.12   \n",
      "INSIGHT     2.05e-01  1.06e-01  2.61e-01 -2.89e-02 -2.79e-01     -0.08     -0.16     -0.25   \n",
      "PSE         7.75e-02  1.62e-03 -5.11e-02  2.86e-01  2.85e-01      0.20      0.10      0.22   \n",
      "EEG        -2.78e-03  2.59e-01 -7.31e-02  1.52e-01  2.36e-01     -0.03     -0.08      0.09   \n",
      "CLASS      -6.32e-02  5.62e-02 -1.19e-01 -2.83e-01 -1.94e-01     -0.18     -0.09     -0.24   \n",
      "\n",
      "              FOR_HX  PREMOBD_HX  ...  MEM_LT   INT_GFK  INT_S_A_D  INT_CAL  INT_PROV    JUDGMT  \\\n",
      "OCCUP      -2.85e-01       -0.16  ...   -0.05 -5.24e-02      -0.02    -0.18     -0.01  2.07e-01   \n",
      "MAR_STA     5.67e-02        0.02  ...   -0.06  6.55e-02      -0.03    -0.07      0.04 -8.30e-02   \n",
      "DUR_EPIS    1.46e-01        0.28  ...    0.07 -3.50e-03      -0.03    -0.09     -0.01  8.53e-02   \n",
      "P_PSY_HX    4.60e-01        0.54  ...    0.09  1.64e-01       0.14     0.11      0.13  7.88e-02   \n",
      "P_MED_HX    3.33e-01        0.40  ...    0.17  2.27e-01       0.27     0.20      0.30  4.90e-02   \n",
      "FAM_P_HX    4.23e-01        0.52  ...    0.01  2.25e-01       0.18     0.18      0.23  1.16e-02   \n",
      "P_SOC_HX    5.14e-01        0.35  ...    0.14  1.84e-01       0.17     0.17      0.12  1.22e-01   \n",
      "P_SEX_HX    6.79e-01        0.49  ...    0.09  1.48e-01       0.13     0.04      0.10  1.22e-01   \n",
      "FOR_HX      1.00e+00        0.57  ...    0.27  1.12e-01       0.06     0.09      0.05  9.35e-02   \n",
      "PREMOBD_HX  5.70e-01        1.00  ...    0.16  2.42e-01       0.24     0.17      0.25  1.51e-01   \n",
      "MSE         8.63e-02        0.14  ...    0.08  8.45e-02       0.05     0.06      0.06  3.18e-03   \n",
      "SPEECH     -4.47e-02        0.03  ...   -0.18 -2.14e-01      -0.24    -0.20     -0.17 -6.98e-02   \n",
      "MOOD        6.62e-03       -0.06  ...   -0.18 -8.31e-02      -0.11    -0.11     -0.04 -1.37e-01   \n",
      "AFFECT      1.78e-01       -0.03  ...    0.39  1.80e-01       0.17     0.20      0.13  9.41e-02   \n",
      "TH_FORM     1.53e-01        0.33  ...    0.31  5.20e-01       0.54     0.45      0.50  4.05e-01   \n",
      "TH_STRM     1.39e-01        0.13  ...    0.16  1.62e-01       0.17     0.18      0.17  1.69e-01   \n",
      "TH_CONTENT -1.04e-01       -0.06  ...   -0.08  1.92e-01       0.18     0.17      0.20 -2.95e-02   \n",
      "TH_POSS     2.19e-01        0.43  ...    0.25  5.39e-01       0.50     0.35      0.43  3.80e-01   \n",
      "PERCEP      1.48e-01        0.15  ...    0.37  2.87e-01       0.29     0.24      0.25  3.52e-01   \n",
      "ORIENT      3.81e-02        0.02  ...    0.34  5.41e-01       0.52     0.49      0.50  4.34e-01   \n",
      "ATTEN      -1.04e-01       -0.15  ...    0.25  3.10e-01       0.30     0.30      0.30  3.89e-01   \n",
      "CONC        1.43e-01       -0.03  ...    0.36  4.90e-01       0.47     0.43      0.41  4.41e-01   \n",
      "MEM_IR      2.35e-01        0.14  ...    0.63  6.66e-01       0.63     0.59      0.60  6.32e-01   \n",
      "MEM_ST      2.06e-01        0.11  ...    0.71  5.42e-01       0.51     0.54      0.51  5.95e-01   \n",
      "MEM_LT      2.66e-01        0.16  ...    1.00  3.96e-01       0.43     0.45      0.45  4.62e-01   \n",
      "INT_GFK     1.12e-01        0.24  ...    0.40  1.00e+00       0.96     0.90      0.90  5.54e-01   \n",
      "INT_S_A_D   6.14e-02        0.24  ...    0.43  9.64e-01       1.00     0.90      0.92  5.13e-01   \n",
      "INT_CAL     9.42e-02        0.17  ...    0.45  8.96e-01       0.90     1.00      0.86  4.69e-01   \n",
      "INT_PROV    5.39e-02        0.25  ...    0.45  9.01e-01       0.92     0.86      1.00  5.15e-01   \n",
      "JUDGMT      9.35e-02        0.15  ...    0.46  5.54e-01       0.51     0.47      0.51  1.00e+00   \n",
      "INSIGHT    -1.23e-01       -0.09  ...    0.20  2.13e-01       0.18     0.17      0.15  2.50e-01   \n",
      "PSE         9.86e-02        0.27  ...    0.13  2.46e-01       0.27     0.26      0.27  2.24e-01   \n",
      "EEG         3.06e-02        0.08  ...    0.08  6.76e-02       0.08     0.10      0.09  9.40e-02   \n",
      "CLASS      -4.94e-02       -0.30  ...   -0.04 -2.18e-01      -0.25    -0.23     -0.20 -6.40e-02   \n",
      "\n",
      "            INSIGHT       PSE       EEG  CLASS  \n",
      "OCCUP          0.21  7.75e-02 -2.78e-03  -0.06  \n",
      "MAR_STA        0.11  1.62e-03  2.59e-01   0.06  \n",
      "DUR_EPIS       0.26 -5.11e-02 -7.31e-02  -0.12  \n",
      "P_PSY_HX      -0.03  2.86e-01  1.52e-01  -0.28  \n",
      "P_MED_HX      -0.28  2.85e-01  2.36e-01  -0.19  \n",
      "FAM_P_HX      -0.08  2.02e-01 -3.13e-02  -0.18  \n",
      "P_SOC_HX      -0.16  1.02e-01 -8.34e-02  -0.09  \n",
      "P_SEX_HX      -0.25  2.16e-01  9.40e-02  -0.24  \n",
      "FOR_HX        -0.12  9.86e-02  3.06e-02  -0.05  \n",
      "PREMOBD_HX    -0.09  2.71e-01  8.05e-02  -0.30  \n",
      "MSE            0.01  2.05e-01 -1.16e-02  -0.05  \n",
      "SPEECH        -0.13  6.23e-02 -1.07e-01  -0.08  \n",
      "MOOD          -0.16 -1.04e-01 -1.48e-03  -0.07  \n",
      "AFFECT         0.38 -2.44e-01  1.02e-01   0.10  \n",
      "TH_FORM        0.10  3.10e-01  1.69e-01  -0.25  \n",
      "TH_STRM        0.01 -1.09e-01 -2.20e-02   0.17  \n",
      "TH_CONTENT     0.32 -2.06e-01  4.68e-02   0.16  \n",
      "TH_POSS        0.07  1.36e-01  9.82e-02  -0.23  \n",
      "PERCEP        -0.04  2.54e-01  1.46e-01  -0.22  \n",
      "ORIENT         0.30  6.15e-02  9.17e-02   0.05  \n",
      "ATTEN          0.35 -7.99e-02  2.20e-01   0.07  \n",
      "CONC           0.32 -3.68e-02 -1.90e-02   0.12  \n",
      "MEM_IR         0.26  1.39e-01  2.49e-02  -0.05  \n",
      "MEM_ST         0.21  1.21e-01 -5.07e-02  -0.07  \n",
      "MEM_LT         0.20  1.34e-01  7.83e-02  -0.04  \n",
      "INT_GFK        0.21  2.46e-01  6.76e-02  -0.22  \n",
      "INT_S_A_D      0.18  2.70e-01  7.73e-02  -0.25  \n",
      "INT_CAL        0.17  2.59e-01  9.55e-02  -0.23  \n",
      "INT_PROV       0.15  2.67e-01  8.84e-02  -0.20  \n",
      "JUDGMT         0.25  2.24e-01  9.40e-02  -0.06  \n",
      "INSIGHT        1.00 -1.61e-01  1.09e-01   0.18  \n",
      "PSE           -0.16  1.00e+00  7.50e-02  -0.46  \n",
      "EEG            0.11  7.50e-02  1.00e+00  -0.27  \n",
      "CLASS          0.18 -4.57e-01 -2.73e-01   1.00  \n",
      "\n",
      "[34 rows x 34 columns]\n"
     ]
    }
   ],
   "source": [
    "from pandas import set_option\n",
    "set_option('display.width',100)\n",
    "set_option('precision',2)\n",
    "correlations = data.corr(method='pearson')\n",
    "print(correlations)"
   ]
  },
  {
   "cell_type": "code",
   "execution_count": 8,
   "metadata": {},
   "outputs": [
    {
     "data": {
      "text/plain": [
       "array([0., 0., 0., 0., 0., 0., 0., 0., 0., 0., 0., 0., 0., 0., 0., 0., 0.,\n",
       "       0., 0., 0., 0., 0., 0., 0., 0., 0., 0., 0., 0., 0., 0., 0., 0., 0.,\n",
       "       0., 0., 0., 0., 0., 0., 0., 0., 0., 0., 0., 0., 0., 0., 0., 0., 0.,\n",
       "       0., 0., 1., 0., 0., 0., 0., 0., 0., 1., 0., 0., 0., 0., 0., 0., 0.,\n",
       "       0., 0., 0., 0., 0., 0., 0., 0., 0., 0., 0., 0., 0., 0., 0., 0., 0.,\n",
       "       0., 0., 0., 0., 0., 0., 0., 0., 0., 0., 0., 0., 0., 0., 0., 0., 0.,\n",
       "       0., 0., 0., 0., 0., 0., 0., 0., 0., 0., 0., 0., 1., 0., 0., 0., 0.,\n",
       "       0., 0., 1., 0., 0., 0., 0., 0., 0., 0., 0., 0., 0., 0., 0., 1., 0.,\n",
       "       0., 0., 0., 0., 0., 1., 0., 0., 0., 0., 0., 0., 0., 0., 0.])"
      ]
     },
     "execution_count": 8,
     "metadata": {},
     "output_type": "execute_result"
    }
   ],
   "source": [
    "from numpy import set_printoptions\n",
    "from sklearn.preprocessing import MinMaxScaler\n",
    "array = data.values\n",
    "# separate array into input and output components\n",
    "X = array[:,0:32]\n",
    "Y = array[:,32]\n",
    "scaler = MinMaxScaler(feature_range=(0, 1))\n",
    "rescaledX = scaler.fit_transform(X)\n",
    "# summarize transformed data\n",
    "set_printoptions(precision=3)\n",
    "#print(rescaledX[0:5,:]\n",
    "Y"
   ]
  },
  {
   "cell_type": "code",
   "execution_count": 10,
   "metadata": {},
   "outputs": [
    {
     "name": "stdout",
     "output_type": "stream",
     "text": [
      "[[-0.702  2.243 -0.625 -0.777  0.074 -0.154  1.263  0.462  0.15  -1.7\n",
      "  -0.057 -0.526 -0.007  1.651 -1.385 -1.131  1.21  -1.137  0.13   0.451\n",
      "   0.115  0.519  0.65   0.768  0.816 -1.102 -1.054 -0.992 -1.008 -1.571\n",
      "   0.068 -1.096]\n",
      " [ 0.281  1.272 -0.12  -2.3   -1.43  -1.815 -2.083 -2.03  -2.118 -1.7\n",
      "  -0.057 -0.526 -0.375 -0.65  -1.385 -1.131  1.21  -1.137 -1.339 -1.896\n",
      "   0.115  0.519 -2.515 -2.284 -1.768 -1.102 -1.054 -0.992 -1.008 -0.215\n",
      "   1.005 -1.096]\n",
      " [ 0.281 -0.668 -0.62  -0.269  0.241 -0.154 -0.41   0.462  2.419  0.396\n",
      "  -0.057 -1.494 -0.742  1.268 -1.385  1.937 -0.749 -1.137 -1.339 -1.896\n",
      "   0.115  0.519  0.65   0.768  0.816 -1.102 -1.054 -0.992 -1.008 -0.215\n",
      "   0.068 -1.096]\n",
      " [-0.899 -0.668 -0.609 -2.3   -1.43  -1.815  1.263  0.462  0.15  -1.7\n",
      "  -1.781 -1.01   1.829 -0.65  -1.385 -1.131  0.72  -1.137 -1.045  0.451\n",
      "   0.115  0.519 -1.46  -1.266 -0.907 -1.102 -1.054 -0.992 -1.008 -1.571\n",
      "  -1.805 -1.096]\n",
      " [ 0.281 -0.668 -0.567 -2.3   -1.43  -1.815 -2.083 -2.03  -2.118 -1.7\n",
      "  -1.781 -0.526  1.829  1.268 -1.385 -1.131 -0.015 -1.137  0.13   0.451\n",
      "  -1.817 -1.928 -1.46  -1.266 -0.907 -1.102 -1.054 -0.992 -1.008 -1.571\n",
      "   1.005 -1.096]]\n"
     ]
    }
   ],
   "source": [
    "from sklearn.preprocessing import StandardScaler\n",
    "scaler = StandardScaler().fit(X)\n",
    "SrescaledX = scaler.transform(X)\n",
    "# summarize transformed data\n",
    "set_printoptions(precision=3)\n",
    "print(SrescaledX[0:5,:])"
   ]
  },
  {
   "cell_type": "code",
   "execution_count": 12,
   "metadata": {},
   "outputs": [
    {
     "name": "stdout",
     "output_type": "stream",
     "text": [
      "[[0.15 0.2  0.03 0.15 0.46 0.05 0.1  0.1  0.05 0.   0.05 0.1  0.2  0.46\n",
      "  0.   0.   0.51 0.   0.25 0.05 0.05 0.1  0.15 0.15 0.15 0.   0.   0.\n",
      "  0.   0.   0.1  0.05]\n",
      " [0.16 0.06 0.96 0.   0.   0.   0.   0.   0.   0.   0.02 0.04 0.06 0.06\n",
      "  0.   0.   0.2  0.   0.   0.   0.02 0.04 0.   0.   0.   0.   0.   0.\n",
      "  0.   0.02 0.06 0.02]\n",
      " [0.45 0.06 0.06 0.23 0.56 0.06 0.06 0.11 0.11 0.11 0.06 0.   0.11 0.45\n",
      "  0.   0.17 0.11 0.   0.   0.   0.06 0.11 0.17 0.17 0.17 0.   0.   0.\n",
      "  0.   0.06 0.11 0.06]\n",
      " [0.15 0.07 0.15 0.   0.   0.   0.15 0.15 0.07 0.   0.   0.07 0.66 0.22\n",
      "  0.   0.   0.59 0.   0.07 0.07 0.07 0.15 0.07 0.07 0.07 0.   0.   0.\n",
      "  0.   0.   0.   0.07]\n",
      " [0.45 0.06 0.34 0.   0.   0.   0.   0.   0.   0.   0.   0.11 0.51 0.45\n",
      "  0.   0.   0.28 0.   0.28 0.06 0.   0.   0.06 0.06 0.06 0.   0.   0.\n",
      "  0.   0.   0.17 0.06]]\n"
     ]
    }
   ],
   "source": [
    "from sklearn.preprocessing import Normalizer\n",
    "scaler = Normalizer().fit(X)\n",
    "normalizedX = scaler.transform(X)\n",
    "# summarize transformed data\n",
    "set_printoptions(precision=2)\n",
    "print(normalizedX[0:5,:])"
   ]
  },
  {
   "cell_type": "code",
   "execution_count": 13,
   "metadata": {},
   "outputs": [
    {
     "data": {
      "text/plain": [
       "(151, 32)"
      ]
     },
     "execution_count": 13,
     "metadata": {},
     "output_type": "execute_result"
    }
   ],
   "source": [
    "normalizedX.shape"
   ]
  },
  {
   "cell_type": "code",
   "execution_count": 14,
   "metadata": {},
   "outputs": [
    {
     "name": "stdout",
     "output_type": "stream",
     "text": [
      "0.23989168930495297\n",
      "0.0\n"
     ]
    },
    {
     "name": "stderr",
     "output_type": "stream",
     "text": [
      "C:\\ProgramData\\Anaconda3\\lib\\site-packages\\sklearn\\model_selection\\_split.py:2053: FutureWarning: You should specify a value for 'cv' instead of relying on the default value. The default value will change from 3 to 5 in version 0.22.\n",
      "  warnings.warn(CV_WARNING, FutureWarning)\n",
      "C:\\ProgramData\\Anaconda3\\lib\\site-packages\\sklearn\\model_selection\\_search.py:841: DeprecationWarning: The default of the `iid` parameter will change from True to False in version 0.22 and will be removed in 0.24. This will change numeric results when test-set sizes are unequal.\n",
      "  DeprecationWarning)\n"
     ]
    }
   ],
   "source": [
    "import numpy\n",
    "from pandas import read_csv\n",
    "from sklearn.linear_model import Ridge\n",
    "from sklearn.model_selection import GridSearchCV\n",
    "from sklearn.model_selection import KFold\n",
    "from sklearn.model_selection import cross_val_score\n",
    "from sklearn.tree import DecisionTreeClassifier\n",
    "array = data.values\n",
    "X = array[:,0:32]\n",
    "Y = array[:,32]\n",
    "alphas = numpy.array([1,0.1,0.01,0.001,0.0001,0])\n",
    "param_grid = dict(alpha=alphas)\n",
    "kfold = KFold(n_splits=10, random_state=7)\n",
    "model =Ridge()\n",
    "results = cross_val_score(model, X, Y, cv=kfold)\n",
    "grid = GridSearchCV(estimator=model, param_grid=param_grid)\n",
    "grid.fit(X, Y)\n",
    "print(grid.best_score_)\n",
    "print(grid.best_estimator_.alpha)"
   ]
  },
  {
   "cell_type": "code",
   "execution_count": 17,
   "metadata": {},
   "outputs": [
    {
     "name": "stdout",
     "output_type": "stream",
     "text": [
      "1.0\n"
     ]
    }
   ],
   "source": [
    "from pandas import read_csv\n",
    "from sklearn.model_selection import KFold\n",
    "from sklearn.model_selection import cross_val_predict\n",
    "from sklearn.tree import DecisionTreeClassifier\n",
    "kfold = KFold(n_splits=10, random_state=7)\n",
    "model = DecisionTreeClassifier()\n",
    "results = cross_val_score(model, X, Y, cv=kfold)\n",
    "import pandas as pd\n",
    "#d={'trueval':Y, 'Predictedval': results}\n",
    "#pd_=pd.DataFrame(data=d)\n",
    "print(results.mean())\n",
    "#pd_\n"
   ]
  },
  {
   "cell_type": "code",
   "execution_count": 21,
   "metadata": {
    "scrolled": true
   },
   "outputs": [],
   "source": [
    "#from sklearn.metrics import confusion_matrix\n",
    "#matrix = confusion_matrix(Y,results)"
   ]
  },
  {
   "cell_type": "code",
   "execution_count": 22,
   "metadata": {},
   "outputs": [
    {
     "name": "stdout",
     "output_type": "stream",
     "text": [
      "1.0\n"
     ]
    }
   ],
   "source": [
    "# Compare Algorithms\n",
    "from pandas import read_csv\n",
    "from sklearn.model_selection import KFold\n",
    "from sklearn.model_selection import cross_val_score\n",
    "from sklearn.ensemble import BaggingClassifier\n",
    "from sklearn.tree import DecisionTreeClassifier\n",
    "#filename = ' pima-indians-diabetes. data. csv'\n",
    "#names = [' preg' , ' plas ' , ' pres ' , ' skin' , ' test ' , ' mass ' , ' pedi ' , ' age ' , ' class ' ]\n",
    "#dataframe = read_csv(filename, names=names)\n",
    "array = data.values\n",
    "X = array[:,0:32]\n",
    "Y = array[:,32]\n",
    "seed = 7\n",
    "kfold = KFold(n_splits=10, random_state=seed)\n",
    "cart = DecisionTreeClassifier()\n",
    "num_trees = 100\n",
    "model = BaggingClassifier(base_estimator=cart, n_estimators=num_trees, random_state=seed)\n",
    "results = cross_val_score(model, X, Y, cv=kfold)\n",
    "print(results.mean())"
   ]
  },
  {
   "cell_type": "code",
   "execution_count": 49,
   "metadata": {},
   "outputs": [
    {
     "name": "stdout",
     "output_type": "stream",
     "text": [
      " LR: 1.000000 (0.000000) \n",
      " LDA: 1.000000 (0.000000) \n",
      " KNN: 0.920000 (0.049889) \n",
      " CART: 1.000000 (0.000000) \n",
      " NB: 0.801250 (0.084411) \n",
      " SVM: 1.000000 (0.000000) \n"
     ]
    },
    {
     "data": {
      "image/png": "[encoded data removed]",
      "text/plain": [
       "<Figure size 432x288 with 1 Axes>"
      ]
     },
     "metadata": {},
     "output_type": "display_data"
    }
   ],
   "source": [
    "# Compare Algorithms\n",
    "from pandas import read_csv\n",
    "from matplotlib import pyplot\n",
    "from sklearn.model_selection import KFold\n",
    "from sklearn.model_selection import cross_val_score\n",
    "from sklearn.linear_model import LogisticRegression\n",
    "from sklearn.tree import DecisionTreeClassifier\n",
    "from sklearn.neighbors import KNeighborsClassifier\n",
    "from sklearn.discriminant_analysis import LinearDiscriminantAnalysis\n",
    "from sklearn.naive_bayes import BernoulliNB\n",
    "from sklearn.svm import SVC\n",
    "# separate class column\n",
    "array = data.values\n",
    "X = array[:,0:32]\n",
    "Y = array[:,32]\n",
    "# prepare models\n",
    "models = []\n",
    "models.append(( ' LR' , LogisticRegression()))\n",
    "models.append(( ' LDA' , LinearDiscriminantAnalysis()))\n",
    "models.append(( ' KNN' , KNeighborsClassifier()))\n",
    "models.append(( ' CART' , DecisionTreeClassifier()))\n",
    "models.append(( ' NB' , BernoulliNB()))\n",
    "models.append(( ' SVM' , SVC()))\n",
    "# evaluate each model in turn\n",
    "results = []\n",
    "names = []\n",
    "scoring = 'accuracy'\n",
    "for name, model in models:\n",
    " kfold = KFold(n_splits=10, random_state=7)\n",
    " cv_results = cross_val_score(model, X, Y, cv=kfold, scoring=scoring)\n",
    " results.append(cv_results)\n",
    "#13.2. Compare Machine Learning Algorithms Consistently 85\n",
    " names.append(name)\n",
    " msg = \"%s: %f (%f) \" % (name, cv_results.mean(), cv_results.std())\n",
    " print(msg)\n",
    "# boxplot algorithm comparison\n",
    "fig = pyplot.figure()\n",
    "fig.suptitle( ' Algorithm Comparison' )\n",
    "ax = fig.add_subplot(111)\n",
    "pyplot.boxplot(results)\n",
    "ax.set_xticklabels(names)\n",
    "pyplot.show()"
   ]
  },
  {
   "cell_type": "markdown",
   "metadata": {},
   "source": [
    "END OF ANALYSIS"
   ]
  },
  {
   "cell_type": "code",
   "execution_count": 26,
   "metadata": {},
   "outputs": [],
   "source": [
    "# MSc PROJECT RESULT PLOTS"
   ]
  },
  {
   "cell_type": "code",
   "execution_count": 25,
   "metadata": {},
   "outputs": [
    {
     "data": {
      "image/png": "[encoded data removed]",
      "text/plain": [
       "<Figure size 432x288 with 1 Axes>"
      ]
     },
     "metadata": {
      "needs_background": "light"
     },
     "output_type": "display_data"
    },
    {
     "data": {
      "image/png": "[encoded data removed]",
      "text/plain": [
       "<Figure size 432x288 with 1 Axes>"
      ]
     },
     "metadata": {
      "needs_background": "light"
     },
     "output_type": "display_data"
    },
    {
     "data": {
      "image/png": "[encoded data removed]",
      "text/plain": [
       "<Figure size 432x288 with 1 Axes>"
      ]
     },
     "metadata": {
      "needs_background": "light"
     },
     "output_type": "display_data"
    },
    {
     "data": {
      "image/png": "[encoded data removed]",
      "text/plain": [
       "<Figure size 432x288 with 1 Axes>"
      ]
     },
     "metadata": {
      "needs_background": "light"
     },
     "output_type": "display_data"
    },
    {
     "data": {
      "image/png": "[encoded data removed]",
      "text/plain": [
       "<Figure size 432x288 with 1 Axes>"
      ]
     },
     "metadata": {
      "needs_background": "light"
     },
     "output_type": "display_data"
    }
   ],
   "source": [
    "LABEL= ['CS J48','J48', 'NAIVE BAYES','ZEROR']\n",
    "ACCURACY=[78,86,82,64]\n",
    "sens=[0.897,0.835,0.825,1.000]\n",
    "spec=[0.574,0.926,0.814,0]\n",
    "DOR=[21,21,21]\n",
    "a_roc=[0.895,0.943,0.917,0.467]\n",
    "index=np.arange(len(LABEL))\n",
    "plt.bar(index,ACCURACY)\n",
    "plt.xlabel('MODELS', fontsize=10)\n",
    "plt.ylabel('ACCURACY', fontsize=10)\n",
    "plt.xticks(index, LABEL, fontsize=10, rotation=30)\n",
    "plt.title('ACCURACIES OF MODELS')\n",
    "plt.show()\n",
    "\n",
    "\n",
    "index=np.arange(len(LABEL))\n",
    "plt.bar(index,sens)\n",
    "plt.xlabel('MODELS', fontsize=10)\n",
    "plt.ylabel('SENSITIVITY', fontsize=10)\n",
    "plt.xticks(index, LABEL, fontsize=10, rotation=30)\n",
    "plt.title('SENSITIVITIES OF MODELS')\n",
    "plt.show()\n",
    "\n",
    "index=np.arange(len(LABEL))\n",
    "plt.bar(index,spec)\n",
    "plt.xlabel('MODELS', fontsize=10)\n",
    "plt.ylabel('SPECIFICITY', fontsize=10)\n",
    "plt.xticks(index, LABEL, fontsize=10, rotation=30)\n",
    "plt.title('SPECIFICITIES OF MODELS')\n",
    "plt.show()\n",
    "\n",
    "index=np.arange(len(LABEL))\n",
    "plt.bar(index,a_roc)\n",
    "plt.xlabel('MODELS', fontsize=10)\n",
    "plt.ylabel('ROC Area', fontsize=10)\n",
    "plt.xticks(index, LABEL, fontsize=10, rotation=30)\n",
    "plt.title('ROC Areas OF MODELS')\n",
    "plt.show()\n",
    "\n",
    "LABEL= ['CS J48','J48', 'NAIVE BAYES']\n",
    "index=np.arange(len(LABEL))\n",
    "plt.bar(index,DOR)\n",
    "plt.xlabel('MODELS', fontsize=10)\n",
    "plt.ylabel('DOR', fontsize=10)\n",
    "plt.xticks(index, LABEL, fontsize=10, rotation=30)\n",
    "plt.title('DORs OF MODELS')\n",
    "plt.show()\n"
   ]
  },
  {
   "cell_type": "code",
   "execution_count": 6,
   "metadata": {},
   "outputs": [
    {
     "data": {
      "image/png": "[encoded data removed]",
      "text/plain": [
       "<Figure size 432x288 with 1 Axes>"
      ]
     },
     "metadata": {},
     "output_type": "display_data"
    }
   ],
   "source": [
    "LABEL= ['CS J48', 'NAIVE BAYES','ZEROR']\n",
    "#ACCURACY=[89,82,64]\n",
    "sens=[0.91,0.81,1]\n",
    "#spec=[0.87,0.83,0]\n",
    "index=np.arange(len(LABEL))\n",
    "plt.bar(index,sens)\n",
    "plt.xlabel('MODELS', fontsize=10)\n",
    "plt.ylabel('SENSITIVITY', fontsize=10)\n",
    "plt.xticks(index, LABEL, fontsize=10, rotation=30)\n",
    "plt.title('SENSITIVITIES OF MODELS')\n",
    "plt.show()"
   ]
  },
  {
   "cell_type": "code",
   "execution_count": 24,
   "metadata": {},
   "outputs": [
    {
     "data": {
      "image/png": "[encoded data removed]",
      "text/plain": [
       "<Figure size 432x288 with 1 Axes>"
      ]
     },
     "metadata": {
      "needs_background": "light"
     },
     "output_type": "display_data"
    }
   ],
   "source": [
    "LABEL= ['CS J48', 'NAIVE BAYES','ZEROR']\n",
    "#ACCURACY=[89,82,64]\n",
    "#sens=[0.91,0.81,1]\n",
    "spec=[0.87,0.83,0]\n",
    "index=np.arange(len(LABEL))\n",
    "plt.bar(index,spec, color='red')\n",
    "#plt.grid()\n",
    "plt.xlabel('MODELS', fontsize=10)\n",
    "plt.ylabel('SPECIFICITY', fontsize=10)\n",
    "plt.xticks(index, LABEL, fontsize=10, rotation=30)\n",
    "plt.title('SPECIFICITIES OF MODELS')\n",
    "plt.show()"
   ]
  },
  {
   "cell_type": "code",
   "execution_count": 57,
   "metadata": {},
   "outputs": [
    {
     "data": {
      "image/png": "[encoded data removed]",
      "text/plain": [
       "<Figure size 432x288 with 1 Axes>"
      ]
     },
     "metadata": {},
     "output_type": "display_data"
    }
   ],
   "source": [
    "LABEL= ['CS J48', 'NAIVE BAYES','ZEROR']\n",
    "#ACCURACY=[89,82,64]\n",
    "#sens=[0.91,0.81,1]\n",
    "#spec=[0.87,0.83,0]\n",
    "a_roc=[0.968,0.919,0.467]\n",
    "index=np.arange(len(LABEL))\n",
    "plt.bar(index,a_roc)\n",
    "plt.xlabel('MODELS', fontsize=10)\n",
    "plt.ylabel('AUR', fontsize=10)\n",
    "plt.xticks(index, LABEL, fontsize=10, rotation=30)\n",
    "plt.title('AREAS UNDER ROCs OF MODELS')\n",
    "plt.show()"
   ]
  },
  {
   "cell_type": "code",
   "execution_count": 58,
   "metadata": {},
   "outputs": [
    {
     "data": {
      "image/png": "[encoded data removed]",
      "text/plain": [
       "<Figure size 432x288 with 1 Axes>"
      ]
     },
     "metadata": {},
     "output_type": "display_data"
    },
    {
     "data": {
      "text/plain": [
       "[65.65, 21.94, 0]"
      ]
     },
     "execution_count": 58,
     "metadata": {},
     "output_type": "execute_result"
    }
   ],
   "source": [
    "LABEL= ['CS J48', 'NAIVE BAYES','ZEROR']\n",
    "#ACCURACY=[89,82,64]\n",
    "#sens=[0.91,0.81,1]\n",
    "#spec=[0.87,0.83,0]\n",
    "a_roc=[0.968,0.919,0.467]\n",
    "DOR=[]\n",
    "index=np.arange(len(LABEL))\n",
    "plt.bar(index,dor)\n",
    "plt.xlabel('MODELS', fontsize=10)\n",
    "plt.ylabel('DOR', fontsize=10)\n",
    "plt.xticks(index, LABEL, fontsize=10, rotation=30)\n",
    "plt.title('DORs OF MODELS')\n",
    "plt.show()"
   ]
  },
  {
   "cell_type": "code",
   "execution_count": null,
   "metadata": {},
   "outputs": [],
   "source": []
  }
 ],
 "metadata": {
  "kernelspec": {
   "display_name": "Python 3",
   "language": "python",
   "name": "python3"
  },
  "language_info": {
   "codemirror_mode": {
    "name": "ipython",
    "version": 3
   },
   "file_extension": ".py",
   "mimetype": "text/x-python",
   "name": "python",
   "nbconvert_exporter": "python",
   "pygments_lexer": "ipython3",
   "version": "3.7.3"
  }
 },
 "nbformat": 4,
 "nbformat_minor": 2
}
