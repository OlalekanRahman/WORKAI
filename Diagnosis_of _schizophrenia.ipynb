{
 "cells": [
  {
   "cell_type": "markdown",
   "metadata": {},
   "source": [
    "> # INTRODUCTION\n",
    "This AI project presents a model to predict Schizophrenia using health records obtained from the University of Lagos Teaching Hospital Nigeria. Dataset cases were recorded between years 2013 and 2018. The dataset contains features of diagnosis of schizophrenia as defined in DSM-5: Occupation, Marital status, Episode duration, Past psychiatric history, Past medical history, Family psychiatric history,Past social history,etc.  DSM-5 is a manual of psychiatric diseases diagnosis information. The health records comprise of first episode Schizophrenia patients and those of other related diseases. In the work, I represented Schizophrenia cases with SCHIZ class(1) and and others as OIHERS(0)."
   ]
  },
  {
   "cell_type": "code",
   "execution_count": 1,
   "metadata": {},
   "outputs": [],
   "source": [
    "#import needed tools\n",
    "from sklearn.compose import make_column_transformer\n",
    "from sklearn.impute import SimpleImputer\n",
    "from sklearn.model_selection import cross_val_score\n",
    "from sklearn.preprocessing import LabelEncoder,OneHotEncoder,StandardScaler\n",
    "from sklearn.model_selection import train_test_split,GridSearchCV,learning_curve\n",
    "from sklearn.pipeline import make_pipeline\n",
    "from sklearn.decomposition import KernelPCA\n",
    "from sklearn.feature_selection import chi2,SelectKBest\n",
    "from sklearn.tree import DecisionTreeClassifier\n",
    "from sklearn.metrics import precision_score, recall_score\n",
    "from sklearn.ensemble import RandomForestClassifier,GradientBoostingClassifier\n",
    "from sklearn.svm import SVC\n",
    "from sklearn.linear_model import LogisticRegression\n",
    "import pandas as pd \n",
    "from pandas.plotting import scatter_matrix\n",
    "import matplotlib.pyplot as pl\n",
    "import numpy as np\n",
    "import seaborn as sn"
   ]
  },
  {
   "cell_type": "code",
   "execution_count": 25,
   "metadata": {},
   "outputs": [
    {
     "data": {
      "text/html": [
       "<div>\n",
       "<style scoped>\n",
       "    .dataframe tbody tr th:only-of-type {\n",
       "        vertical-align: middle;\n",
       "    }\n",
       "\n",
       "    .dataframe tbody tr th {\n",
       "        vertical-align: top;\n",
       "    }\n",
       "\n",
       "    .dataframe thead th {\n",
       "        text-align: right;\n",
       "    }\n",
       "</style>\n",
       "<table border=\"1\" class=\"dataframe\">\n",
       "  <thead>\n",
       "    <tr style=\"text-align: right;\">\n",
       "      <th></th>\n",
       "      <th>Y_O_REP</th>\n",
       "      <th>AGE</th>\n",
       "      <th>SEX</th>\n",
       "      <th>OCCUP</th>\n",
       "      <th>MAR_STA</th>\n",
       "      <th>DUR_EPIS</th>\n",
       "      <th>P_PSY_HX</th>\n",
       "      <th>P_MED_HX</th>\n",
       "      <th>FAM_P_HX</th>\n",
       "      <th>P_SOC_HX</th>\n",
       "      <th>...</th>\n",
       "      <th>INT_GFK</th>\n",
       "      <th>INT_S_A_D</th>\n",
       "      <th>INT_CAL</th>\n",
       "      <th>INT_PROV</th>\n",
       "      <th>JUDGMT</th>\n",
       "      <th>INSIGHT</th>\n",
       "      <th>PSE</th>\n",
       "      <th>EEG</th>\n",
       "      <th>DIAGN</th>\n",
       "      <th>CLASS</th>\n",
       "    </tr>\n",
       "  </thead>\n",
       "  <tbody>\n",
       "    <tr>\n",
       "      <th>0</th>\n",
       "      <td>2015</td>\n",
       "      <td>56</td>\n",
       "      <td>F</td>\n",
       "      <td>NURSE</td>\n",
       "      <td>WIDOW</td>\n",
       "      <td>0.5</td>\n",
       "      <td>RAPE</td>\n",
       "      <td>HYPTENSIVE</td>\n",
       "      <td>NO</td>\n",
       "      <td>YES</td>\n",
       "      <td>...</td>\n",
       "      <td>NaN</td>\n",
       "      <td>NaN</td>\n",
       "      <td>NaN</td>\n",
       "      <td>NaN</td>\n",
       "      <td>NaN</td>\n",
       "      <td>PARTIAL</td>\n",
       "      <td>GOOD</td>\n",
       "      <td>NORMAL</td>\n",
       "      <td>PARANOID SCHIZ</td>\n",
       "      <td>SCHIZ</td>\n",
       "    </tr>\n",
       "    <tr>\n",
       "      <th>1</th>\n",
       "      <td>2016</td>\n",
       "      <td>28</td>\n",
       "      <td>F</td>\n",
       "      <td>UNEMPLOYED</td>\n",
       "      <td>MARRIED</td>\n",
       "      <td>48.0</td>\n",
       "      <td>NaN</td>\n",
       "      <td>NaN</td>\n",
       "      <td>NaN</td>\n",
       "      <td>NaN</td>\n",
       "      <td>...</td>\n",
       "      <td>NaN</td>\n",
       "      <td>NaN</td>\n",
       "      <td>NaN</td>\n",
       "      <td>NaN</td>\n",
       "      <td>POOR</td>\n",
       "      <td>POOR</td>\n",
       "      <td>GOOD</td>\n",
       "      <td>NORMAL</td>\n",
       "      <td>PARANOID SCHIZ</td>\n",
       "      <td>SCHIZ</td>\n",
       "    </tr>\n",
       "    <tr>\n",
       "      <th>2</th>\n",
       "      <td>2016</td>\n",
       "      <td>26</td>\n",
       "      <td>M</td>\n",
       "      <td>UNEMPLOYED</td>\n",
       "      <td>SINGLE</td>\n",
       "      <td>1.0</td>\n",
       "      <td>NO</td>\n",
       "      <td>SHORT-SIGHT</td>\n",
       "      <td>NO</td>\n",
       "      <td>NO</td>\n",
       "      <td>...</td>\n",
       "      <td>NaN</td>\n",
       "      <td>NaN</td>\n",
       "      <td>NaN</td>\n",
       "      <td>NaN</td>\n",
       "      <td>POOR</td>\n",
       "      <td>PARTIAL</td>\n",
       "      <td>GOOD</td>\n",
       "      <td>NORMAL</td>\n",
       "      <td>PARANOID SCHIZ</td>\n",
       "      <td>SCHIZ</td>\n",
       "    </tr>\n",
       "  </tbody>\n",
       "</table>\n",
       "<p>3 rows × 38 columns</p>\n",
       "</div>"
      ],
      "text/plain": [
       "   Y_O_REP  AGE SEX       OCCUP  MAR_STA  DUR_EPIS P_PSY_HX     P_MED_HX  \\\n",
       "0     2015   56   F       NURSE    WIDOW       0.5     RAPE   HYPTENSIVE   \n",
       "1     2016   28   F  UNEMPLOYED  MARRIED      48.0      NaN          NaN   \n",
       "2     2016   26   M  UNEMPLOYED   SINGLE       1.0       NO  SHORT-SIGHT   \n",
       "\n",
       "  FAM_P_HX P_SOC_HX  ... INT_GFK INT_S_A_D INT_CAL INT_PROV JUDGMT  INSIGHT  \\\n",
       "0       NO      YES  ...     NaN       NaN     NaN      NaN    NaN  PARTIAL   \n",
       "1      NaN      NaN  ...     NaN       NaN     NaN      NaN   POOR     POOR   \n",
       "2       NO       NO  ...     NaN       NaN     NaN      NaN   POOR  PARTIAL   \n",
       "\n",
       "    PSE     EEG           DIAGN  CLASS  \n",
       "0  GOOD  NORMAL  PARANOID SCHIZ  SCHIZ  \n",
       "1  GOOD  NORMAL  PARANOID SCHIZ  SCHIZ  \n",
       "2  GOOD  NORMAL  PARANOID SCHIZ  SCHIZ  \n",
       "\n",
       "[3 rows x 38 columns]"
      ]
     },
     "execution_count": 25,
     "metadata": {},
     "output_type": "execute_result"
    }
   ],
   "source": [
    "#Import and view data\n",
    "data=pd.read_csv('used_PROJECT_DATANEW.csv')\n",
    "data.head(3)"
   ]
  },
  {
   "cell_type": "code",
   "execution_count": 3,
   "metadata": {},
   "outputs": [
    {
     "data": {
      "text/plain": [
       "(151, 38)"
      ]
     },
     "execution_count": 3,
     "metadata": {},
     "output_type": "execute_result"
    }
   ],
   "source": [
    "#Shape of data \n",
    "data.shape"
   ]
  },
  {
   "cell_type": "code",
   "execution_count": 4,
   "metadata": {},
   "outputs": [],
   "source": [
    "#Age, Sex,Year of Report, and Diagnosis status are not part of diagnosis criteria and thus should be removed\n",
    "#Let's leave age for now\n",
    "data=data.drop(['SEX','Y_O_REP','DIAGN'],axis=1)\n"
   ]
  },
  {
   "cell_type": "code",
   "execution_count": 5,
   "metadata": {},
   "outputs": [
    {
     "data": {
      "text/html": [
       "<div>\n",
       "<style scoped>\n",
       "    .dataframe tbody tr th:only-of-type {\n",
       "        vertical-align: middle;\n",
       "    }\n",
       "\n",
       "    .dataframe tbody tr th {\n",
       "        vertical-align: top;\n",
       "    }\n",
       "\n",
       "    .dataframe thead th {\n",
       "        text-align: right;\n",
       "    }\n",
       "</style>\n",
       "<table border=\"1\" class=\"dataframe\">\n",
       "  <thead>\n",
       "    <tr style=\"text-align: right;\">\n",
       "      <th></th>\n",
       "      <th>AGE</th>\n",
       "      <th>DUR_EPIS</th>\n",
       "    </tr>\n",
       "  </thead>\n",
       "  <tbody>\n",
       "    <tr>\n",
       "      <th>count</th>\n",
       "      <td>151.000000</td>\n",
       "      <td>148.000000</td>\n",
       "    </tr>\n",
       "    <tr>\n",
       "      <th>mean</th>\n",
       "      <td>34.933775</td>\n",
       "      <td>60.454392</td>\n",
       "    </tr>\n",
       "    <tr>\n",
       "      <th>std</th>\n",
       "      <td>16.265984</td>\n",
       "      <td>94.876831</td>\n",
       "    </tr>\n",
       "    <tr>\n",
       "      <th>min</th>\n",
       "      <td>16.000000</td>\n",
       "      <td>0.500000</td>\n",
       "    </tr>\n",
       "    <tr>\n",
       "      <th>25%</th>\n",
       "      <td>22.000000</td>\n",
       "      <td>2.000000</td>\n",
       "    </tr>\n",
       "    <tr>\n",
       "      <th>50%</th>\n",
       "      <td>31.000000</td>\n",
       "      <td>24.000000</td>\n",
       "    </tr>\n",
       "    <tr>\n",
       "      <th>75%</th>\n",
       "      <td>45.000000</td>\n",
       "      <td>60.000000</td>\n",
       "    </tr>\n",
       "    <tr>\n",
       "      <th>max</th>\n",
       "      <td>80.000000</td>\n",
       "      <td>384.000000</td>\n",
       "    </tr>\n",
       "  </tbody>\n",
       "</table>\n",
       "</div>"
      ],
      "text/plain": [
       "              AGE    DUR_EPIS\n",
       "count  151.000000  148.000000\n",
       "mean    34.933775   60.454392\n",
       "std     16.265984   94.876831\n",
       "min     16.000000    0.500000\n",
       "25%     22.000000    2.000000\n",
       "50%     31.000000   24.000000\n",
       "75%     45.000000   60.000000\n",
       "max     80.000000  384.000000"
      ]
     },
     "execution_count": 5,
     "metadata": {},
     "output_type": "execute_result"
    }
   ],
   "source": [
    "#Description of numerical data: duration of episode of the disease in patient in months.\n",
    "data.describe()"
   ]
  },
  {
   "cell_type": "markdown",
   "metadata": {},
   "source": [
    "- People don't report for medical attension on time as shown in __Average Duration__ of episode below\n",
    "\n",
    "\n",
    "- Statistics shows that __average age__ of Schiz patients at Lagos Teaching Hospital is 35+/-16 years "
   ]
  },
  {
   "cell_type": "code",
   "execution_count": 6,
   "metadata": {},
   "outputs": [
    {
     "data": {
      "text/plain": [
       "(151, 34)"
      ]
     },
     "execution_count": 6,
     "metadata": {},
     "output_type": "execute_result"
    }
   ],
   "source": [
    "#Age not part of diagnosis criteria and thus is removed\n",
    "data=data.drop(['AGE'],axis=1)\n",
    "data.shape\n"
   ]
  },
  {
   "cell_type": "code",
   "execution_count": 7,
   "metadata": {},
   "outputs": [
    {
     "data": {
      "text/plain": [
       "OCCUP          6\n",
       "MAR_STA        2\n",
       "DUR_EPIS       3\n",
       "P_PSY_HX      17\n",
       "P_MED_HX      30\n",
       "FAM_P_HX      21\n",
       "P_SOC_HX      13\n",
       "P_SEX_HX      28\n",
       "FOR_HX        20\n",
       "PREMOBD_HX    28\n",
       "MSE            0\n",
       "SPEECH         7\n",
       "MOOD           8\n",
       "AFFECT        10\n",
       "TH_FORM       43\n",
       "TH_STRM       39\n",
       "TH_CONTENT    27\n",
       "TH_POSS       58\n",
       "PERCEP        39\n",
       "ORIENT        31\n",
       "ATTEN         25\n",
       "CONC          25\n",
       "MEM_IR        35\n",
       "MEM_ST        35\n",
       "MEM_LT        35\n",
       "INT_GFK       62\n",
       "INT_S_A_D     64\n",
       "INT_CAL       67\n",
       "INT_PROV      67\n",
       "JUDGMT        31\n",
       "INSIGHT       20\n",
       "PSE            4\n",
       "EEG            0\n",
       "CLASS          0\n",
       "dtype: int64"
      ]
     },
     "execution_count": 7,
     "metadata": {},
     "output_type": "execute_result"
    }
   ],
   "source": [
    "#Check missing values\n",
    "data.isnull().sum()"
   ]
  },
  {
   "cell_type": "code",
   "execution_count": 8,
   "metadata": {},
   "outputs": [
    {
     "data": {
      "text/html": [
       "<div>\n",
       "<style scoped>\n",
       "    .dataframe tbody tr th:only-of-type {\n",
       "        vertical-align: middle;\n",
       "    }\n",
       "\n",
       "    .dataframe tbody tr th {\n",
       "        vertical-align: top;\n",
       "    }\n",
       "\n",
       "    .dataframe thead th {\n",
       "        text-align: right;\n",
       "    }\n",
       "</style>\n",
       "<table border=\"1\" class=\"dataframe\">\n",
       "  <thead>\n",
       "    <tr style=\"text-align: right;\">\n",
       "      <th></th>\n",
       "      <th>0</th>\n",
       "      <th>1</th>\n",
       "      <th>2</th>\n",
       "      <th>3</th>\n",
       "      <th>4</th>\n",
       "      <th>5</th>\n",
       "      <th>6</th>\n",
       "      <th>7</th>\n",
       "      <th>8</th>\n",
       "      <th>9</th>\n",
       "      <th>...</th>\n",
       "      <th>24</th>\n",
       "      <th>25</th>\n",
       "      <th>26</th>\n",
       "      <th>27</th>\n",
       "      <th>28</th>\n",
       "      <th>29</th>\n",
       "      <th>30</th>\n",
       "      <th>31</th>\n",
       "      <th>32</th>\n",
       "      <th>33</th>\n",
       "    </tr>\n",
       "  </thead>\n",
       "  <tbody>\n",
       "    <tr>\n",
       "      <th>0</th>\n",
       "      <td>NURSE</td>\n",
       "      <td>WIDOW</td>\n",
       "      <td>0.5</td>\n",
       "      <td>RAPE</td>\n",
       "      <td>HYPTENSIVE</td>\n",
       "      <td>NO</td>\n",
       "      <td>YES</td>\n",
       "      <td>NORMAL</td>\n",
       "      <td>NO</td>\n",
       "      <td>NORMAL</td>\n",
       "      <td>...</td>\n",
       "      <td>GOOD</td>\n",
       "      <td>GOOD</td>\n",
       "      <td>GOOD</td>\n",
       "      <td>GOOD</td>\n",
       "      <td>GOOD</td>\n",
       "      <td>POOR</td>\n",
       "      <td>PARTIAL</td>\n",
       "      <td>GOOD</td>\n",
       "      <td>NORMAL</td>\n",
       "      <td>SCHIZ</td>\n",
       "    </tr>\n",
       "    <tr>\n",
       "      <th>1</th>\n",
       "      <td>UNEMPLOYED</td>\n",
       "      <td>MARRIED</td>\n",
       "      <td>48</td>\n",
       "      <td>MENTAL ILLNESS</td>\n",
       "      <td>NO</td>\n",
       "      <td>NO</td>\n",
       "      <td>NO</td>\n",
       "      <td>NORMAL</td>\n",
       "      <td>NO</td>\n",
       "      <td>NORMAL</td>\n",
       "      <td>...</td>\n",
       "      <td>FAIR</td>\n",
       "      <td>GOOD</td>\n",
       "      <td>GOOD</td>\n",
       "      <td>GOOD</td>\n",
       "      <td>GOOD</td>\n",
       "      <td>POOR</td>\n",
       "      <td>POOR</td>\n",
       "      <td>GOOD</td>\n",
       "      <td>NORMAL</td>\n",
       "      <td>SCHIZ</td>\n",
       "    </tr>\n",
       "    <tr>\n",
       "      <th>2</th>\n",
       "      <td>UNEMPLOYED</td>\n",
       "      <td>SINGLE</td>\n",
       "      <td>1</td>\n",
       "      <td>NO</td>\n",
       "      <td>SHORT-SIGHT</td>\n",
       "      <td>NO</td>\n",
       "      <td>NO</td>\n",
       "      <td>NORMAL</td>\n",
       "      <td>YES</td>\n",
       "      <td>NORMAL</td>\n",
       "      <td>...</td>\n",
       "      <td>GOOD</td>\n",
       "      <td>GOOD</td>\n",
       "      <td>GOOD</td>\n",
       "      <td>GOOD</td>\n",
       "      <td>GOOD</td>\n",
       "      <td>POOR</td>\n",
       "      <td>PARTIAL</td>\n",
       "      <td>GOOD</td>\n",
       "      <td>NORMAL</td>\n",
       "      <td>SCHIZ</td>\n",
       "    </tr>\n",
       "  </tbody>\n",
       "</table>\n",
       "<p>3 rows × 34 columns</p>\n",
       "</div>"
      ],
      "text/plain": [
       "           0        1    2               3            4   5    6       7   \\\n",
       "0       NURSE    WIDOW  0.5            RAPE   HYPTENSIVE  NO  YES  NORMAL   \n",
       "1  UNEMPLOYED  MARRIED   48  MENTAL ILLNESS           NO  NO   NO  NORMAL   \n",
       "2  UNEMPLOYED   SINGLE    1              NO  SHORT-SIGHT  NO   NO  NORMAL   \n",
       "\n",
       "    8       9   ...    24    25    26    27    28    29       30    31  \\\n",
       "0   NO  NORMAL  ...  GOOD  GOOD  GOOD  GOOD  GOOD  POOR  PARTIAL  GOOD   \n",
       "1   NO  NORMAL  ...  FAIR  GOOD  GOOD  GOOD  GOOD  POOR     POOR  GOOD   \n",
       "2  YES  NORMAL  ...  GOOD  GOOD  GOOD  GOOD  GOOD  POOR  PARTIAL  GOOD   \n",
       "\n",
       "       32     33  \n",
       "0  NORMAL  SCHIZ  \n",
       "1  NORMAL  SCHIZ  \n",
       "2  NORMAL  SCHIZ  \n",
       "\n",
       "[3 rows x 34 columns]"
      ]
     },
     "execution_count": 8,
     "metadata": {},
     "output_type": "execute_result"
    }
   ],
   "source": [
    "#Replace missing values with mode values of corresponding column. It is assumed that majority values represent the reality.\n",
    "imputer=SimpleImputer(missing_values=np.nan,strategy='most_frequent')\n",
    "newdata=imputer.fit_transform(data)\n",
    "newdata=pd.DataFrame(newdata)\n",
    "newdata.head(3)"
   ]
  },
  {
   "cell_type": "code",
   "execution_count": 9,
   "metadata": {},
   "outputs": [
    {
     "data": {
      "text/plain": [
       "((151,), (151, 32))"
      ]
     },
     "execution_count": 9,
     "metadata": {},
     "output_type": "execute_result"
    }
   ],
   "source": [
    "#Only column 2 (Duration of episode) is numeric\n",
    "#separation of Numeric column from categorical columns\n",
    "Num_col=newdata.pop(2)\n",
    "\n",
    "#rename categorical dataframe\n",
    "Cat_columns=newdata\n",
    "#Separate Target column\n",
    "class_=Cat_columns.pop(33)\n",
    "\n",
    "Num_col.shape,Cat_columns.shape"
   ]
  },
  {
   "cell_type": "code",
   "execution_count": 10,
   "metadata": {},
   "outputs": [
    {
     "name": "stderr",
     "output_type": "stream",
     "text": [
      "C:\\ProgramData\\Anaconda3\\lib\\site-packages\\sklearn\\utils\\validation.py:595: DataConversionWarning: Data with input dtype object was converted to float64 by StandardScaler.\n",
      "  warnings.warn(msg, DataConversionWarning)\n",
      "C:\\ProgramData\\Anaconda3\\lib\\site-packages\\sklearn\\utils\\validation.py:595: DataConversionWarning: Data with input dtype object was converted to float64 by StandardScaler.\n",
      "  warnings.warn(msg, DataConversionWarning)\n"
     ]
    },
    {
     "data": {
      "text/plain": [
       "((151, 161), (151,), (151, 160))"
      ]
     },
     "execution_count": 10,
     "metadata": {},
     "output_type": "execute_result"
    }
   ],
   "source": [
    "#Encode categorical data\n",
    "cat_encoder=OneHotEncoder(sparse=False)\n",
    "encoded_features=cat_encoder.fit_transform(Cat_columns)\n",
    "\n",
    "#Scale Numerical data\n",
    "num_scaler=StandardScaler()\n",
    "encoded_num=num_scaler.fit_transform(Num_col[:,None])\n",
    "\n",
    "#encoding Classes into Schiz(1),Others(0)\n",
    "class_encoder=LabelEncoder()\n",
    "enc_target=class_encoder.fit_transform(class_)\n",
    "#Combine both Numeric and categorical encoded\n",
    "Full_features=np.hstack([encoded_num,encoded_features])\n",
    "Full_data=np.hstack([Full_features,enc_target[:,None]])\n",
    "#check dataset sizes\n",
    "Full_data.shape,enc_target.shape,Full_features.shape"
   ]
  },
  {
   "cell_type": "code",
   "execution_count": 11,
   "metadata": {},
   "outputs": [
    {
     "data": {
      "text/plain": [
       "Text(0.5, 1.0, 'Variance of Dummies')"
      ]
     },
     "execution_count": 11,
     "metadata": {},
     "output_type": "execute_result"
    },
    {
     "data": {
      "image/png": "[encoded data removed]",
      "text/plain": [
       "<Figure size 1080x1080 with 1 Axes>"
      ]
     },
     "metadata": {
      "needs_background": "light"
     },
     "output_type": "display_data"
    }
   ],
   "source": [
    "#Remove dummies with low variance\n",
    "Variance=pd.Series(encoded_features.var(axis=0))\n",
    "\n",
    "# let's check dummies with variance less than or equal to 0.05 and drop them\n",
    "fig,ax=pl.subplots(figsize=(15,15))\n",
    "Variance.sort_values().plot(kind='barh',ax=ax)\n",
    "ax.vlines(0.05,ymin=-5,ymax=200,colors='red')\n",
    "ax.set_title('Variance of Dummies')"
   ]
  },
  {
   "cell_type": "code",
   "execution_count": 12,
   "metadata": {},
   "outputs": [
    {
     "data": {
      "text/plain": [
       "((151, 78), (151, 79))"
      ]
     },
     "execution_count": 12,
     "metadata": {},
     "output_type": "execute_result"
    }
   ],
   "source": [
    "#select dummies whose variance is greater than 0.05\n",
    "Selected_Dummies=(encoded_features.T)[Variance>0.05]\n",
    "\n",
    "#Combine selected Dummies and sole numerical column\n",
    "Full_features=np.vstack([Selected_Dummies,encoded_num.flatten()])\n",
    "Full_features=Full_features.T\n",
    "#check for data consistency\n",
    "Selected_Dummies.T.shape, Full_features.shape"
   ]
  },
  {
   "cell_type": "code",
   "execution_count": 13,
   "metadata": {},
   "outputs": [
    {
     "data": {
      "text/plain": [
       "((120, 79), (31, 79), (120,), (31,))"
      ]
     },
     "execution_count": 13,
     "metadata": {},
     "output_type": "execute_result"
    }
   ],
   "source": [
    "#split data into train-test portions\n",
    "#apply split data function to dataset\n",
    "Train_features,Test_features,Train_targets,Test_targets=train_test_split(Full_features,enc_target,test_size=0.2, \n",
    "                                                                         stratify=enc_target, random_state=1)\n",
    "#check data shape consistency\n",
    "Train_features.shape,Test_features.shape,Train_targets.shape,Test_targets.shape"
   ]
  },
  {
   "cell_type": "markdown",
   "metadata": {},
   "source": [
    "# **Time for algorithm training**"
   ]
  },
  {
   "cell_type": "code",
   "execution_count": 14,
   "metadata": {},
   "outputs": [],
   "source": [
    "#making trials with 4 algorithms:'SVC','DecisionTree','Randomforest','GradientBoosting\n",
    "models=pd.DataFrame(index=['Accuracy','Precision','Recall'],columns=['SVC','DecisionTree','Randomforest','GradientBoosting'])\n"
   ]
  },
  {
   "cell_type": "code",
   "execution_count": 15,
   "metadata": {},
   "outputs": [],
   "source": [
    "#Train Gradient Boosting Classifier with say 30 features\n",
    "pipeline1=make_pipeline(KernelPCA(kernel='rbf',n_components=30),GradientBoostingClassifier(n_estimators=10,random_state=1))\n",
    "Model_gbc=pipeline1.fit(Train_features,Train_targets)\n",
    "y_gbc=Model_gbc.predict(Train_features)\n",
    "models.loc['Accuracy','GradientBoosting']=Model_gbc.score(Train_features,Train_targets)\n",
    "models.loc['Precision','GradientBoosting']=precision_score(Train_targets,y_gbc)\n",
    "models.loc['Recall','GradientBoosting']=recall_score(Train_targets,y_gbc)"
   ]
  },
  {
   "cell_type": "code",
   "execution_count": 16,
   "metadata": {},
   "outputs": [],
   "source": [
    "#Train DecisionTreeClassifier Classifier with say 30 features\n",
    "pipeline2=make_pipeline(KernelPCA(kernel='rbf',n_components=30),DecisionTreeClassifier(random_state=1))\n",
    "Model_dtc=pipeline2.fit(Train_features,Train_targets)\n",
    "y_dtc=Model_gbc.predict(Train_features)\n",
    "models.loc['Accuracy','DecisionTree']=Model_dtc.score(Train_features,Train_targets)\n",
    "models.loc['Precision','DecisionTree']=precision_score(Train_targets,y_dtc)\n",
    "models.loc['Recall','DecisionTree']=recall_score(Train_targets,y_dtc)"
   ]
  },
  {
   "cell_type": "code",
   "execution_count": 17,
   "metadata": {},
   "outputs": [
    {
     "name": "stderr",
     "output_type": "stream",
     "text": [
      "C:\\ProgramData\\Anaconda3\\lib\\site-packages\\sklearn\\svm\\base.py:196: FutureWarning: The default value of gamma will change from 'auto' to 'scale' in version 0.22 to account better for unscaled features. Set gamma explicitly to 'auto' or 'scale' to avoid this warning.\n",
      "  \"avoid this warning.\", FutureWarning)\n"
     ]
    }
   ],
   "source": [
    "#Train SVClassifier Classifier with say 30 features\n",
    "pipeline3=make_pipeline(KernelPCA(kernel='rbf',n_components=30),SVC(kernel='rbf',random_state=1))\n",
    "Model_svc=pipeline3.fit(Train_features,Train_targets)\n",
    "y_svc=Model_svc.predict(Train_features)\n",
    "models.loc['Accuracy','SVC']=Model_svc.score(Train_features,Train_targets)\n",
    "models.loc['Precision','SVC']=precision_score(Train_targets,y_svc)\n",
    "models.loc['Recall','SVC']=recall_score(Train_targets,y_svc)"
   ]
  },
  {
   "cell_type": "code",
   "execution_count": 18,
   "metadata": {},
   "outputs": [],
   "source": [
    "#Reduce dimension with Principal Components analysis and Train the RandomForestClassifier classifier\n",
    "pipeline4=make_pipeline(KernelPCA(kernel='rbf',n_components=30),RandomForestClassifier(n_estimators=10,class_weight='balanced',random_state=1))\n",
    "Model_rfc=pipeline4.fit(Train_features,Train_targets)\n",
    "y_rfc=Model_svc.predict(Train_features)\n",
    "models.loc['Accuracy','Randomforest']=Model_rfc.score(Train_features,Train_targets)\n",
    "models.loc['Precision','Randomforest']=precision_score(Train_targets,y_rfc)\n",
    "models.loc['Recall','Randomforest']=recall_score(Train_targets,y_rfc)"
   ]
  },
  {
   "cell_type": "code",
   "execution_count": 19,
   "metadata": {},
   "outputs": [
    {
     "data": {
      "text/html": [
       "<div>\n",
       "<style scoped>\n",
       "    .dataframe tbody tr th:only-of-type {\n",
       "        vertical-align: middle;\n",
       "    }\n",
       "\n",
       "    .dataframe tbody tr th {\n",
       "        vertical-align: top;\n",
       "    }\n",
       "\n",
       "    .dataframe thead th {\n",
       "        text-align: right;\n",
       "    }\n",
       "</style>\n",
       "<table border=\"1\" class=\"dataframe\">\n",
       "  <thead>\n",
       "    <tr style=\"text-align: right;\">\n",
       "      <th></th>\n",
       "      <th>SVC</th>\n",
       "      <th>DecisionTree</th>\n",
       "      <th>Randomforest</th>\n",
       "      <th>GradientBoosting</th>\n",
       "    </tr>\n",
       "  </thead>\n",
       "  <tbody>\n",
       "    <tr>\n",
       "      <th>Accuracy</th>\n",
       "      <td>0.641667</td>\n",
       "      <td>1</td>\n",
       "      <td>1</td>\n",
       "      <td>0.991667</td>\n",
       "    </tr>\n",
       "    <tr>\n",
       "      <th>Precision</th>\n",
       "      <td>0.641667</td>\n",
       "      <td>0.987179</td>\n",
       "      <td>0.641667</td>\n",
       "      <td>0.987179</td>\n",
       "    </tr>\n",
       "    <tr>\n",
       "      <th>Recall</th>\n",
       "      <td>1</td>\n",
       "      <td>1</td>\n",
       "      <td>1</td>\n",
       "      <td>1</td>\n",
       "    </tr>\n",
       "  </tbody>\n",
       "</table>\n",
       "</div>"
      ],
      "text/plain": [
       "                SVC DecisionTree Randomforest GradientBoosting\n",
       "Accuracy   0.641667            1            1         0.991667\n",
       "Precision  0.641667     0.987179     0.641667         0.987179\n",
       "Recall            1            1            1                1"
      ]
     },
     "execution_count": 19,
     "metadata": {},
     "output_type": "execute_result"
    }
   ],
   "source": [
    "#print models performances\n",
    "models"
   ]
  },
  {
   "cell_type": "code",
   "execution_count": 20,
   "metadata": {},
   "outputs": [
    {
     "name": "stdout",
     "output_type": "stream",
     "text": [
      "                SVC DecisionTree Randomforest GradientBoosting\n",
      "Accuracy   0.641667            1            1         0.991667\n",
      "Precision  0.641667     0.987179     0.641667         0.987179\n",
      "Recall            1            1            1                1\n"
     ]
    },
    {
     "data": {
      "image/png": "[encoded data removed]",
      "text/plain": [
       "<Figure size 720x360 with 1 Axes>"
      ]
     },
     "metadata": {
      "needs_background": "light"
     },
     "output_type": "display_data"
    }
   ],
   "source": [
    "#Print model performances on data\n",
    "fig,ax=pl.subplots(figsize=(10,5))\n",
    "models.loc['Accuracy'].sort_values().plot(kind='barh',ax=ax)\n",
    "ax.set_title('ACCURACIES FOR MODELS')\n",
    "print(models)"
   ]
  },
  {
   "cell_type": "markdown",
   "metadata": {},
   "source": [
    "# **DecisionTree Classifier looks the best among the classifiers trained**"
   ]
  },
  {
   "cell_type": "code",
   "execution_count": 21,
   "metadata": {},
   "outputs": [
    {
     "name": "stdout",
     "output_type": "stream",
     "text": [
      "Validation Accuracy: 94.07%\n",
      "Precision: 95.56%\n",
      "Recall: 94.07%\n",
      "F1: 94.1%\n"
     ]
    }
   ],
   "source": [
    "#validate Decisiontree Classifier with Cross-Validation scheme\n",
    "num_folds = 10\n",
    "accuracy_values =cross_val_score(Model_dtc,Train_features,Train_targets, scoring='accuracy', cv=num_folds)\n",
    "print(\"Validation Accuracy: \" + str(round(100*accuracy_values.mean(), 2)) + \"%\")\n",
    "precision_values =cross_val_score(Model_dtc,Train_features,Train_targets, scoring='precision_weighted', cv=num_folds)\n",
    "print(\"Precision: \" + str(round(100*precision_values.mean(), 2)) + \"%\")\n",
    "recall_values = cross_val_score(Model_dtc, Train_features,Train_targets, scoring='recall_weighted', cv=num_folds)\n",
    "print(\"Recall: \" + str(round(100*recall_values.mean(), 2)) + \"%\")\n",
    "f1_values = cross_val_score(Model_dtc,Train_features,Train_targets, scoring='f1_weighted', cv=num_folds)\n",
    "print(\"F1: \" + str(round(100*f1_values.mean(), 2)) + \"%\")"
   ]
  },
  {
   "cell_type": "markdown",
   "metadata": {},
   "source": [
    "## __Test Model on unseen data__"
   ]
  },
  {
   "cell_type": "code",
   "execution_count": 22,
   "metadata": {},
   "outputs": [
    {
     "name": "stdout",
     "output_type": "stream",
     "text": [
      "Test Accuracy:96.77%\n"
     ]
    },
    {
     "data": {
      "text/html": [
       "<div>\n",
       "<style scoped>\n",
       "    .dataframe tbody tr th:only-of-type {\n",
       "        vertical-align: middle;\n",
       "    }\n",
       "\n",
       "    .dataframe tbody tr th {\n",
       "        vertical-align: top;\n",
       "    }\n",
       "\n",
       "    .dataframe thead th {\n",
       "        text-align: right;\n",
       "    }\n",
       "</style>\n",
       "<table border=\"1\" class=\"dataframe\">\n",
       "  <thead>\n",
       "    <tr style=\"text-align: right;\">\n",
       "      <th></th>\n",
       "      <th>Predicts</th>\n",
       "      <th>Targets</th>\n",
       "    </tr>\n",
       "  </thead>\n",
       "  <tbody>\n",
       "    <tr>\n",
       "      <th>0</th>\n",
       "      <td>1</td>\n",
       "      <td>1</td>\n",
       "    </tr>\n",
       "    <tr>\n",
       "      <th>1</th>\n",
       "      <td>0</td>\n",
       "      <td>0</td>\n",
       "    </tr>\n",
       "    <tr>\n",
       "      <th>2</th>\n",
       "      <td>0</td>\n",
       "      <td>0</td>\n",
       "    </tr>\n",
       "    <tr>\n",
       "      <th>3</th>\n",
       "      <td>0</td>\n",
       "      <td>0</td>\n",
       "    </tr>\n",
       "    <tr>\n",
       "      <th>4</th>\n",
       "      <td>1</td>\n",
       "      <td>1</td>\n",
       "    </tr>\n",
       "    <tr>\n",
       "      <th>5</th>\n",
       "      <td>0</td>\n",
       "      <td>0</td>\n",
       "    </tr>\n",
       "    <tr>\n",
       "      <th>6</th>\n",
       "      <td>1</td>\n",
       "      <td>1</td>\n",
       "    </tr>\n",
       "    <tr>\n",
       "      <th>7</th>\n",
       "      <td>0</td>\n",
       "      <td>0</td>\n",
       "    </tr>\n",
       "    <tr>\n",
       "      <th>8</th>\n",
       "      <td>1</td>\n",
       "      <td>1</td>\n",
       "    </tr>\n",
       "    <tr>\n",
       "      <th>9</th>\n",
       "      <td>1</td>\n",
       "      <td>1</td>\n",
       "    </tr>\n",
       "    <tr>\n",
       "      <th>10</th>\n",
       "      <td>1</td>\n",
       "      <td>1</td>\n",
       "    </tr>\n",
       "    <tr>\n",
       "      <th>11</th>\n",
       "      <td>1</td>\n",
       "      <td>1</td>\n",
       "    </tr>\n",
       "    <tr>\n",
       "      <th>12</th>\n",
       "      <td>1</td>\n",
       "      <td>1</td>\n",
       "    </tr>\n",
       "    <tr>\n",
       "      <th>13</th>\n",
       "      <td>0</td>\n",
       "      <td>0</td>\n",
       "    </tr>\n",
       "    <tr>\n",
       "      <th>14</th>\n",
       "      <td>1</td>\n",
       "      <td>1</td>\n",
       "    </tr>\n",
       "    <tr>\n",
       "      <th>15</th>\n",
       "      <td>1</td>\n",
       "      <td>1</td>\n",
       "    </tr>\n",
       "    <tr>\n",
       "      <th>16</th>\n",
       "      <td>1</td>\n",
       "      <td>1</td>\n",
       "    </tr>\n",
       "    <tr>\n",
       "      <th>17</th>\n",
       "      <td>1</td>\n",
       "      <td>1</td>\n",
       "    </tr>\n",
       "    <tr>\n",
       "      <th>18</th>\n",
       "      <td>1</td>\n",
       "      <td>1</td>\n",
       "    </tr>\n",
       "    <tr>\n",
       "      <th>19</th>\n",
       "      <td>1</td>\n",
       "      <td>1</td>\n",
       "    </tr>\n",
       "    <tr>\n",
       "      <th>20</th>\n",
       "      <td>1</td>\n",
       "      <td>1</td>\n",
       "    </tr>\n",
       "    <tr>\n",
       "      <th>21</th>\n",
       "      <td>1</td>\n",
       "      <td>1</td>\n",
       "    </tr>\n",
       "    <tr>\n",
       "      <th>22</th>\n",
       "      <td>0</td>\n",
       "      <td>0</td>\n",
       "    </tr>\n",
       "    <tr>\n",
       "      <th>23</th>\n",
       "      <td>1</td>\n",
       "      <td>0</td>\n",
       "    </tr>\n",
       "    <tr>\n",
       "      <th>24</th>\n",
       "      <td>0</td>\n",
       "      <td>0</td>\n",
       "    </tr>\n",
       "  </tbody>\n",
       "</table>\n",
       "</div>"
      ],
      "text/plain": [
       "    Predicts  Targets\n",
       "0          1        1\n",
       "1          0        0\n",
       "2          0        0\n",
       "3          0        0\n",
       "4          1        1\n",
       "5          0        0\n",
       "6          1        1\n",
       "7          0        0\n",
       "8          1        1\n",
       "9          1        1\n",
       "10         1        1\n",
       "11         1        1\n",
       "12         1        1\n",
       "13         0        0\n",
       "14         1        1\n",
       "15         1        1\n",
       "16         1        1\n",
       "17         1        1\n",
       "18         1        1\n",
       "19         1        1\n",
       "20         1        1\n",
       "21         1        1\n",
       "22         0        0\n",
       "23         1        0\n",
       "24         0        0"
      ]
     },
     "execution_count": 22,
     "metadata": {},
     "output_type": "execute_result"
    }
   ],
   "source": [
    "#Test the model on unseen datset\n",
    "y_pred=Model_dtc.predict(Test_features)\n",
    "score=round((100*(y_pred==Test_targets).sum()/len(Test_features)),2)\n",
    "print('Test Accuracy:' + str(score) + '%')\n",
    "\n",
    "V={\"Predicts\":y_pred,'Targets':Test_targets}\n",
    "pd.DataFrame(V).head(25)\n"
   ]
  },
  {
   "cell_type": "code",
   "execution_count": 23,
   "metadata": {},
   "outputs": [
    {
     "name": "stdout",
     "output_type": "stream",
     "text": [
      "Predicated status: [0], Real status: 0\n"
     ]
    },
    {
     "data": {
      "text/plain": [
       "array(['OTHERS'], dtype=object)"
      ]
     },
     "execution_count": 23,
     "metadata": {},
     "output_type": "execute_result"
    }
   ],
   "source": [
    "#predict a case\n",
    "case=Test_features[2,:]\n",
    "print('Predicated status: %s, Real status: %s'%(Model_dtc.predict(case[np.newaxis,:]),Test_targets[2]))\n",
    "class_encoder.inverse_transform(Model_gbc.predict(case[np.newaxis,:]))\n"
   ]
  },
  {
   "cell_type": "code",
   "execution_count": 24,
   "metadata": {},
   "outputs": [
    {
     "data": {
      "text/plain": [
       "['SCHIZ_model.pkl']"
      ]
     },
     "execution_count": 24,
     "metadata": {},
     "output_type": "execute_result"
    }
   ],
   "source": [
    "#save the best model for the prediction of Schizophrenia at 93% accuracy and recall \n",
    "\n",
    "from sklearn.externals import joblib\n",
    "joblib.dump(Model_gbc,\"SCHIZ_model.pkl\" )"
   ]
  },
  {
   "cell_type": "markdown",
   "metadata": {},
   "source": [
    "# Thanks!!!"
   ]
  },
  {
   "cell_type": "code",
   "execution_count": null,
   "metadata": {},
   "outputs": [],
   "source": []
  }
 ],
 "metadata": {
  "kernelspec": {
   "display_name": "Python 3",
   "language": "python",
   "name": "python3"
  },
  "language_info": {
   "codemirror_mode": {
    "name": "ipython",
    "version": 3
   },
   "file_extension": ".py",
   "mimetype": "text/x-python",
   "name": "python",
   "nbconvert_exporter": "python",
   "pygments_lexer": "ipython3",
   "version": "3.7.3"
  }
 },
 "nbformat": 4,
 "nbformat_minor": 2
}
