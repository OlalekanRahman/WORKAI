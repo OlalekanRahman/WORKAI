{
 "cells": [
  {
   "cell_type": "code",
   "execution_count": null,
   "metadata": {},
   "outputs": [
    {
     "name": "stdout",
     "output_type": "stream",
     "text": [
      " * Serving Flask app \"__main__\" (lazy loading)\n",
      " * Environment: production\n",
      "   WARNING: Do not use the development server in a production environment.\n",
      "   Use a production WSGI server instead.\n",
      " * Debug mode: off\n"
     ]
    },
    {
     "name": "stderr",
     "output_type": "stream",
     "text": [
      " * Running on http://127.0.0.1:5000/ (Press CTRL+C to quit)\n"
     ]
    }
   ],
   "source": [
    "from flask import Flask,render_template,request,session,Session\n",
    "from sqlalchemy import create_engine\n",
    "from sqlalchemy.orm import scoped_session, sessionmaker\n",
    "app=Flask(__name__)\n",
    "@app.route(\"/\")\n",
    "def index():\n",
    "    return render_template(\"flask2.html\")\n",
    "\n",
    "@app.route(\"/details\",methods=[\"GET\",\"POST\"])\n",
    "def details():\n",
    "    if request.method==\"POST\":\n",
    "        FirstName=request.form.get(\"FirstName\")\n",
    "        LastName=request.form.get(\"LastName\")\n",
    "        return render_template(\"content.html\",FirstName=FirstName,LastName=LastName)\n",
    "    else:\n",
    "        return render_template(\"content.html\")\n",
    "\n",
    "if __name__==\"__main__\":\n",
    "    app.run()\n",
    "    "
   ]
  },
  {
   "cell_type": "code",
   "execution_count": 98,
   "metadata": {},
   "outputs": [
    {
     "name": "stdout",
     "output_type": "stream",
     "text": [
      " * Serving Flask app \"__main__\" (lazy loading)\n",
      " * Environment: production\n",
      "   WARNING: Do not use the development server in a production environment.\n",
      "   Use a production WSGI server instead.\n",
      " * Debug mode: off\n"
     ]
    },
    {
     "name": "stderr",
     "output_type": "stream",
     "text": [
      " * Running on http://127.0.0.1:5000/ (Press CTRL+C to quit)\n",
      "127.0.0.1 - - [24/Sep/2019 11:15:37] \"GET / HTTP/1.1\" 200 -\n"
     ]
    }
   ],
   "source": [
    "from flask import Flask,render_template,request,session\n",
    "from flask import Session\n",
    "app2=Flask(__name__)\n",
    "app2.config[\"SESSION_PERMANENT\"]=False\n",
    "app2.config[\"SECRET_KEY\"]=\"b')\\xb9\\xab,\\x96\\xf1+b\\xe5\\xac\\xd7x\\xda.\\xe5\\x1d'\"\n",
    "#app2.config[\"DEBUG\"]=True\n",
    "app2.config[\"FLASK_ENV\"]=\"DEVELOPMENT\"\n",
    "app2.config[\"SESSION_TYPE\"]=\"filesystem\"\n",
    "#jots=[]\n",
    "@app2.route(\"/\", methods=[\"GET\",\"POST\"])\n",
    "def index():\n",
    "    if session.get(\"jots\") is None:\n",
    "        session[\"jots\"]=[]\n",
    "    if request.method==\"post\":\n",
    "        jot=request.form.get(\"jot\")\n",
    "        session[\"jots\"].append(jot)\n",
    "    return render_template(\"session.html\",jots=session[\"jots\"])\n",
    "if __name__==\"__main__\":\n",
    "    app2.run()        "
   ]
  },
  {
   "cell_type": "code",
   "execution_count": 51,
   "metadata": {},
   "outputs": [
    {
     "name": "stdout",
     "output_type": "stream",
     "text": [
      "b')\\xb9\\xab,\\x96\\xf1+b\\xe5\\xac\\xd7x\\xda.\\xe5\\x1d'\n"
     ]
    }
   ],
   "source": [
    "import os\n",
    "print(os.urandom(16))"
   ]
  },
  {
   "cell_type": "code",
   "execution_count": null,
   "metadata": {},
   "outputs": [],
   "source": []
  }
 ],
 "metadata": {
  "kernelspec": {
   "display_name": "Python 3",
   "language": "python",
   "name": "python3"
  },
  "language_info": {
   "codemirror_mode": {
    "name": "ipython",
    "version": 3
   },
   "file_extension": ".py",
   "mimetype": "text/x-python",
   "name": "python",
   "nbconvert_exporter": "python",
   "pygments_lexer": "ipython3",
   "version": "3.7.3"
  }
 },
 "nbformat": 4,
 "nbformat_minor": 2
}
